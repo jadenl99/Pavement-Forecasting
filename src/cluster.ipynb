{
 "cells": [
  {
   "cell_type": "code",
   "execution_count": 3,
   "metadata": {},
   "outputs": [
    {
     "data": {
      "text/html": [
       "<div>\n",
       "<style scoped>\n",
       "    .dataframe tbody tr th:only-of-type {\n",
       "        vertical-align: middle;\n",
       "    }\n",
       "\n",
       "    .dataframe tbody tr th {\n",
       "        vertical-align: top;\n",
       "    }\n",
       "\n",
       "    .dataframe thead th {\n",
       "        text-align: right;\n",
       "    }\n",
       "</style>\n",
       "<table border=\"1\" class=\"dataframe\">\n",
       "  <thead>\n",
       "    <tr style=\"text-align: right;\">\n",
       "      <th></th>\n",
       "      <th>MP From</th>\n",
       "      <th>MP To</th>\n",
       "      <th>2014 Slab ID</th>\n",
       "      <th>BY Length (ft)</th>\n",
       "      <th>2014</th>\n",
       "      <th>2015</th>\n",
       "      <th>2016</th>\n",
       "      <th>2017</th>\n",
       "      <th>2018</th>\n",
       "    </tr>\n",
       "  </thead>\n",
       "  <tbody>\n",
       "    <tr>\n",
       "      <th>0</th>\n",
       "      <td>22.000000</td>\n",
       "      <td>21.997566</td>\n",
       "      <td>3</td>\n",
       "      <td>12.85</td>\n",
       "      <td>NC</td>\n",
       "      <td>NC</td>\n",
       "      <td>NC</td>\n",
       "      <td>NC</td>\n",
       "      <td>NC</td>\n",
       "    </tr>\n",
       "    <tr>\n",
       "      <th>1</th>\n",
       "      <td>21.997566</td>\n",
       "      <td>21.994286</td>\n",
       "      <td>4</td>\n",
       "      <td>17.32</td>\n",
       "      <td>NC</td>\n",
       "      <td>NC</td>\n",
       "      <td>NC</td>\n",
       "      <td>NC</td>\n",
       "      <td>NC</td>\n",
       "    </tr>\n",
       "    <tr>\n",
       "      <th>2</th>\n",
       "      <td>21.994286</td>\n",
       "      <td>21.991244</td>\n",
       "      <td>5</td>\n",
       "      <td>16.06</td>\n",
       "      <td>NC</td>\n",
       "      <td>NC</td>\n",
       "      <td>NC</td>\n",
       "      <td>NC</td>\n",
       "      <td>NC</td>\n",
       "    </tr>\n",
       "    <tr>\n",
       "      <th>3</th>\n",
       "      <td>21.991244</td>\n",
       "      <td>21.987169</td>\n",
       "      <td>6</td>\n",
       "      <td>21.52</td>\n",
       "      <td>NC</td>\n",
       "      <td>NC</td>\n",
       "      <td>NC</td>\n",
       "      <td>NC</td>\n",
       "      <td>NC</td>\n",
       "    </tr>\n",
       "    <tr>\n",
       "      <th>4</th>\n",
       "      <td>21.987169</td>\n",
       "      <td>21.982809</td>\n",
       "      <td>7</td>\n",
       "      <td>23.02</td>\n",
       "      <td>NC</td>\n",
       "      <td>NC</td>\n",
       "      <td>NC</td>\n",
       "      <td>NC</td>\n",
       "      <td>NC</td>\n",
       "    </tr>\n",
       "  </tbody>\n",
       "</table>\n",
       "</div>"
      ],
      "text/plain": [
       "     MP From      MP To  2014 Slab ID  BY Length (ft) 2014 2015 2016 2017 2018\n",
       "0  22.000000  21.997566             3           12.85   NC   NC   NC   NC   NC\n",
       "1  21.997566  21.994286             4           17.32   NC   NC   NC   NC   NC\n",
       "2  21.994286  21.991244             5           16.06   NC   NC   NC   NC   NC\n",
       "3  21.991244  21.987169             6           21.52   NC   NC   NC   NC   NC\n",
       "4  21.987169  21.982809             7           23.02   NC   NC   NC   NC   NC"
      ]
     },
     "execution_count": 3,
     "metadata": {},
     "output_type": "execute_result"
    }
   ],
   "source": [
    "import pandas as pd\n",
    "import matplotlib.pyplot as plt\n",
    "import seaborn as sns\n",
    "import numpy as np\n",
    "\n",
    "df = pd.read_csv('..\\spreadsheet_data\\i16WB_filtered.csv')\n",
    "# Filter out slabs that were replaced during time period\n",
    "df = df[df['Replaced'].notnull() == False]\n",
    "df = df[df['Replaced and Broken'].notnull() == False]\n",
    "df = df[df['2014'] != 'R']\n",
    "\n",
    "df = df.drop(columns=['Replaced', 'Replaced and Broken', 'Interstate', 'Direction', 'Year Replaced', 'Possibly OR'])\n",
    "df.head()"
   ]
  },
  {
   "cell_type": "code",
   "execution_count": 5,
   "metadata": {},
   "outputs": [
    {
     "ename": "AttributeError",
     "evalue": "'DataFrame' object has no attribute 'show'",
     "output_type": "error",
     "traceback": [
      "\u001b[1;31m---------------------------------------------------------------------------\u001b[0m",
      "\u001b[1;31mAttributeError\u001b[0m                            Traceback (most recent call last)",
      "\u001b[1;32mc:\\Users\\jaden\\Documents\\GitHub\\Pavement-Forecasting\\src\\cluster.ipynb Cell 2\u001b[0m line \u001b[0;36m5\n\u001b[0;32m      <a href='vscode-notebook-cell:/c%3A/Users/jaden/Documents/GitHub/Pavement-Forecasting/src/cluster.ipynb#W1sZmlsZQ%3D%3D?line=0'>1</a>\u001b[0m \u001b[39m#Grouping data by mile marker (every mile). Data will be put into bins with (m, m + 1] where m is an integer and a mile marker.\u001b[39;00m\n\u001b[0;32m      <a href='vscode-notebook-cell:/c%3A/Users/jaden/Documents/GitHub/Pavement-Forecasting/src/cluster.ipynb#W1sZmlsZQ%3D%3D?line=2'>3</a>\u001b[0m mini_df \u001b[39m=\u001b[39m df[df[\u001b[39m'\u001b[39m\u001b[39mMP From\u001b[39m\u001b[39m'\u001b[39m] \u001b[39m>\u001b[39m \u001b[39m21\u001b[39m]\n\u001b[1;32m----> <a href='vscode-notebook-cell:/c%3A/Users/jaden/Documents/GitHub/Pavement-Forecasting/src/cluster.ipynb#W1sZmlsZQ%3D%3D?line=4'>5</a>\u001b[0m mini_df\u001b[39m.\u001b[39;49mshow()\n",
      "File \u001b[1;32mc:\\Users\\jaden\\anaconda3\\lib\\site-packages\\pandas\\core\\generic.py:5575\u001b[0m, in \u001b[0;36mNDFrame.__getattr__\u001b[1;34m(self, name)\u001b[0m\n\u001b[0;32m   5568\u001b[0m \u001b[39mif\u001b[39;00m (\n\u001b[0;32m   5569\u001b[0m     name \u001b[39mnot\u001b[39;00m \u001b[39min\u001b[39;00m \u001b[39mself\u001b[39m\u001b[39m.\u001b[39m_internal_names_set\n\u001b[0;32m   5570\u001b[0m     \u001b[39mand\u001b[39;00m name \u001b[39mnot\u001b[39;00m \u001b[39min\u001b[39;00m \u001b[39mself\u001b[39m\u001b[39m.\u001b[39m_metadata\n\u001b[0;32m   5571\u001b[0m     \u001b[39mand\u001b[39;00m name \u001b[39mnot\u001b[39;00m \u001b[39min\u001b[39;00m \u001b[39mself\u001b[39m\u001b[39m.\u001b[39m_accessors\n\u001b[0;32m   5572\u001b[0m     \u001b[39mand\u001b[39;00m \u001b[39mself\u001b[39m\u001b[39m.\u001b[39m_info_axis\u001b[39m.\u001b[39m_can_hold_identifiers_and_holds_name(name)\n\u001b[0;32m   5573\u001b[0m ):\n\u001b[0;32m   5574\u001b[0m     \u001b[39mreturn\u001b[39;00m \u001b[39mself\u001b[39m[name]\n\u001b[1;32m-> 5575\u001b[0m \u001b[39mreturn\u001b[39;00m \u001b[39mobject\u001b[39;49m\u001b[39m.\u001b[39;49m\u001b[39m__getattribute__\u001b[39;49m(\u001b[39mself\u001b[39;49m, name)\n",
      "\u001b[1;31mAttributeError\u001b[0m: 'DataFrame' object has no attribute 'show'"
     ]
    }
   ],
   "source": [
    "#Grouping data by mile marker (every mile). Data will be put into bins with (m, m + 1] where m is an integer and a mile marker.\n",
    "\n",
    "mini_df = df[df['MP From'] > 21]\n",
    "\n",
    "mini_df.head()"
   ]
  }
 ],
 "metadata": {
  "kernelspec": {
   "display_name": "base",
   "language": "python",
   "name": "python3"
  },
  "language_info": {
   "codemirror_mode": {
    "name": "ipython",
    "version": 3
   },
   "file_extension": ".py",
   "mimetype": "text/x-python",
   "name": "python",
   "nbconvert_exporter": "python",
   "pygments_lexer": "ipython3",
   "version": "3.9.12"
  },
  "orig_nbformat": 4
 },
 "nbformat": 4,
 "nbformat_minor": 2
}
