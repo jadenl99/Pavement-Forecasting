{
 "cells": [
  {
   "cell_type": "code",
   "execution_count": 24,
   "metadata": {},
   "outputs": [],
   "source": [
    "import pandas as pd\n",
    "import matplotlib.pyplot as plt\n",
    "import seaborn as sns\n",
    "import numpy as np\n",
    "\n",
    "df = pd.read_csv('..\\spreadsheet_data\\i16WB_filtered.csv')\n",
    "\n",
    "# Filter out slabs that were replaced during time period\n",
    "df = df[df['Replaced'].notnull() == False]\n",
    "df = df[df['Replaced and Broken'].notnull() == False]\n",
    "df = df[df['2014'] != 'R']\n",
    "df = df.drop(columns=['Replaced', 'Replaced and Broken', 'Interstate', 'Direction', 'Year Replaced', 'Possibly OR'])\n",
    "\n",
    "\n",
    "df.to_csv('..\\spreadsheet_data\\i16WB_res.csv')"
   ]
  },
  {
   "cell_type": "code",
   "execution_count": 27,
   "metadata": {},
   "outputs": [
    {
     "data": {
      "text/html": [
       "<div>\n",
       "<style scoped>\n",
       "    .dataframe tbody tr th:only-of-type {\n",
       "        vertical-align: middle;\n",
       "    }\n",
       "\n",
       "    .dataframe tbody tr th {\n",
       "        vertical-align: top;\n",
       "    }\n",
       "\n",
       "    .dataframe thead th {\n",
       "        text-align: right;\n",
       "    }\n",
       "</style>\n",
       "<table border=\"1\" class=\"dataframe\">\n",
       "  <thead>\n",
       "    <tr style=\"text-align: right;\">\n",
       "      <th></th>\n",
       "      <th>2014</th>\n",
       "      <th>2015</th>\n",
       "      <th>2016</th>\n",
       "      <th>2017</th>\n",
       "      <th>2018</th>\n",
       "    </tr>\n",
       "  </thead>\n",
       "  <tbody>\n",
       "    <tr>\n",
       "      <th>NC</th>\n",
       "      <td>2189</td>\n",
       "      <td>2099</td>\n",
       "      <td>2023</td>\n",
       "      <td>1936</td>\n",
       "      <td>1886</td>\n",
       "    </tr>\n",
       "    <tr>\n",
       "      <th>L1</th>\n",
       "      <td>95</td>\n",
       "      <td>91</td>\n",
       "      <td>80</td>\n",
       "      <td>81</td>\n",
       "      <td>54</td>\n",
       "    </tr>\n",
       "    <tr>\n",
       "      <th>T1</th>\n",
       "      <td>20</td>\n",
       "      <td>25</td>\n",
       "      <td>36</td>\n",
       "      <td>47</td>\n",
       "      <td>29</td>\n",
       "    </tr>\n",
       "    <tr>\n",
       "      <th>L2</th>\n",
       "      <td>110</td>\n",
       "      <td>117</td>\n",
       "      <td>130</td>\n",
       "      <td>135</td>\n",
       "      <td>146</td>\n",
       "    </tr>\n",
       "    <tr>\n",
       "      <th>T2</th>\n",
       "      <td>147</td>\n",
       "      <td>181</td>\n",
       "      <td>215</td>\n",
       "      <td>245</td>\n",
       "      <td>283</td>\n",
       "    </tr>\n",
       "    <tr>\n",
       "      <th>CC</th>\n",
       "      <td>45</td>\n",
       "      <td>47</td>\n",
       "      <td>52</td>\n",
       "      <td>58</td>\n",
       "      <td>65</td>\n",
       "    </tr>\n",
       "    <tr>\n",
       "      <th>SS</th>\n",
       "      <td>140</td>\n",
       "      <td>186</td>\n",
       "      <td>210</td>\n",
       "      <td>244</td>\n",
       "      <td>283</td>\n",
       "    </tr>\n",
       "  </tbody>\n",
       "</table>\n",
       "</div>"
      ],
      "text/plain": [
       "    2014  2015  2016  2017  2018\n",
       "NC  2189  2099  2023  1936  1886\n",
       "L1    95    91    80    81    54\n",
       "T1    20    25    36    47    29\n",
       "L2   110   117   130   135   146\n",
       "T2   147   181   215   245   283\n",
       "CC    45    47    52    58    65\n",
       "SS   140   186   210   244   283"
      ]
     },
     "metadata": {},
     "output_type": "display_data"
    }
   ],
   "source": [
    "freq = {}\n",
    "for year in range(2014, 2019):\n",
    "    freq[year] = pd.crosstab(df[str(year)], 'count')\n",
    "    #rel_freq[year].sort_values('state')\n",
    "\n",
    "rel_freq2014 = df['2014'].value_counts(normalize=True)\n",
    "\n",
    "\n",
    "\"\"\"\n",
    "rel_freq2015 = df['2015'].value_counts(normalize=True)\n",
    "rel_freq2016 = df['2016'].value_counts(normalize=True)\n",
    "rel_freq2017 = df['2017'].value_counts(normalize=True)\n",
    "rel_freq2018 = df['2018'].value_counts(normalize=True)\n",
    "\"\"\"\n",
    "freq[2014].head()\n",
    "two_way_freq = pd.concat([freq[2014], freq[2015], freq[2016], freq[2017], freq[2018]], axis=1)\n",
    "two_way_freq.columns = ['2014', '2015', '2016', '2017', '2018']\n",
    "two_way_freq = two_way_freq.reindex(['NC', 'L1', 'T1', 'L2', 'T2', 'CC', 'SS'])\n",
    "# display(rel_freq[2014])\n",
    "# display(rel_freq[2015])\n",
    "# display(rel_freq[2016])\n",
    "# display(rel_freq[2017])\n",
    "# display(rel_freq[2018])\n",
    "display(two_way_freq)"
   ]
  },
  {
   "cell_type": "code",
   "execution_count": 48,
   "metadata": {},
   "outputs": [
    {
     "data": {
      "text/plain": [
       "<matplotlib.legend.Legend at 0x24e344a78e0>"
      ]
     },
     "execution_count": 48,
     "metadata": {},
     "output_type": "execute_result"
    },
    {
     "data": {
      "image/png": "[encoded data removed]",
      "text/plain": [
       "<Figure size 640x480 with 1 Axes>"
      ]
     },
     "metadata": {},
     "output_type": "display_data"
    }
   ],
   "source": [
    "years = ['2014', '2015', '2016', '2017', '2018']\n",
    "labels = ['NC', 'L1', 'T1', 'L2', 'T2', 'CC', 'SS']\n",
    "colors = sns.color_palette('coolwarm', n_colors=7)\n",
    "plt.stackplot(years, two_way_freq, labels=labels, colors=colors)\n",
    "plt.legend(loc='upper center')"
   ]
  }
 ],
 "metadata": {
  "kernelspec": {
   "display_name": "Python 3",
   "language": "python",
   "name": "python3"
  },
  "language_info": {
   "codemirror_mode": {
    "name": "ipython",
    "version": 3
   },
   "file_extension": ".py",
   "mimetype": "text/x-python",
   "name": "python",
   "nbconvert_exporter": "python",
   "pygments_lexer": "ipython3",
   "version": "3.9.12"
  },
  "orig_nbformat": 4
 },
 "nbformat": 4,
 "nbformat_minor": 2
}
