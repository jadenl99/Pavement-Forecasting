{
 "cells": [
  {
   "cell_type": "code",
   "execution_count": 69,
   "metadata": {},
   "outputs": [
    {
     "data": {
      "text/html": [
       "<div>\n",
       "<style scoped>\n",
       "    .dataframe tbody tr th:only-of-type {\n",
       "        vertical-align: middle;\n",
       "    }\n",
       "\n",
       "    .dataframe tbody tr th {\n",
       "        vertical-align: top;\n",
       "    }\n",
       "\n",
       "    .dataframe thead th {\n",
       "        text-align: right;\n",
       "    }\n",
       "</style>\n",
       "<table border=\"1\" class=\"dataframe\">\n",
       "  <thead>\n",
       "    <tr style=\"text-align: right;\">\n",
       "      <th></th>\n",
       "      <th>Unnamed: 0</th>\n",
       "      <th>Mile</th>\n",
       "      <th>Year</th>\n",
       "      <th>Percent Damaged</th>\n",
       "      <th>Percentage of NC that Transitioned to Damaged</th>\n",
       "      <th>Percentage of Mildly Damaged to Critically Damaged</th>\n",
       "    </tr>\n",
       "  </thead>\n",
       "  <tbody>\n",
       "    <tr>\n",
       "      <th>0</th>\n",
       "      <td>0</td>\n",
       "      <td>22</td>\n",
       "      <td>2015</td>\n",
       "      <td>0.187</td>\n",
       "      <td>0.038</td>\n",
       "      <td>0.222</td>\n",
       "    </tr>\n",
       "    <tr>\n",
       "      <th>1</th>\n",
       "      <td>1</td>\n",
       "      <td>22</td>\n",
       "      <td>2016</td>\n",
       "      <td>0.218</td>\n",
       "      <td>0.027</td>\n",
       "      <td>0.368</td>\n",
       "    </tr>\n",
       "    <tr>\n",
       "      <th>2</th>\n",
       "      <td>2</td>\n",
       "      <td>22</td>\n",
       "      <td>2017</td>\n",
       "      <td>0.239</td>\n",
       "      <td>0.036</td>\n",
       "      <td>0.333</td>\n",
       "    </tr>\n",
       "    <tr>\n",
       "      <th>3</th>\n",
       "      <td>3</td>\n",
       "      <td>22</td>\n",
       "      <td>2018</td>\n",
       "      <td>0.266</td>\n",
       "      <td>0.024</td>\n",
       "      <td>0.500</td>\n",
       "    </tr>\n",
       "    <tr>\n",
       "      <th>4</th>\n",
       "      <td>4</td>\n",
       "      <td>21</td>\n",
       "      <td>2015</td>\n",
       "      <td>0.189</td>\n",
       "      <td>0.037</td>\n",
       "      <td>0.375</td>\n",
       "    </tr>\n",
       "    <tr>\n",
       "      <th>5</th>\n",
       "      <td>5</td>\n",
       "      <td>21</td>\n",
       "      <td>2016</td>\n",
       "      <td>0.219</td>\n",
       "      <td>0.038</td>\n",
       "      <td>0.286</td>\n",
       "    </tr>\n",
       "    <tr>\n",
       "      <th>6</th>\n",
       "      <td>6</td>\n",
       "      <td>21</td>\n",
       "      <td>2017</td>\n",
       "      <td>0.248</td>\n",
       "      <td>0.035</td>\n",
       "      <td>0.500</td>\n",
       "    </tr>\n",
       "    <tr>\n",
       "      <th>7</th>\n",
       "      <td>7</td>\n",
       "      <td>21</td>\n",
       "      <td>2018</td>\n",
       "      <td>0.275</td>\n",
       "      <td>0.027</td>\n",
       "      <td>0.385</td>\n",
       "    </tr>\n",
       "    <tr>\n",
       "      <th>8</th>\n",
       "      <td>8</td>\n",
       "      <td>20</td>\n",
       "      <td>2015</td>\n",
       "      <td>0.092</td>\n",
       "      <td>0.024</td>\n",
       "      <td>0.286</td>\n",
       "    </tr>\n",
       "    <tr>\n",
       "      <th>9</th>\n",
       "      <td>9</td>\n",
       "      <td>20</td>\n",
       "      <td>2016</td>\n",
       "      <td>0.114</td>\n",
       "      <td>0.012</td>\n",
       "      <td>0.429</td>\n",
       "    </tr>\n",
       "    <tr>\n",
       "      <th>10</th>\n",
       "      <td>10</td>\n",
       "      <td>20</td>\n",
       "      <td>2017</td>\n",
       "      <td>0.125</td>\n",
       "      <td>0.017</td>\n",
       "      <td>0.667</td>\n",
       "    </tr>\n",
       "    <tr>\n",
       "      <th>11</th>\n",
       "      <td>11</td>\n",
       "      <td>20</td>\n",
       "      <td>2018</td>\n",
       "      <td>0.140</td>\n",
       "      <td>0.013</td>\n",
       "      <td>0.667</td>\n",
       "    </tr>\n",
       "    <tr>\n",
       "      <th>12</th>\n",
       "      <td>12</td>\n",
       "      <td>19</td>\n",
       "      <td>2015</td>\n",
       "      <td>0.298</td>\n",
       "      <td>0.047</td>\n",
       "      <td>0.455</td>\n",
       "    </tr>\n",
       "    <tr>\n",
       "      <th>13</th>\n",
       "      <td>13</td>\n",
       "      <td>19</td>\n",
       "      <td>2016</td>\n",
       "      <td>0.331</td>\n",
       "      <td>0.049</td>\n",
       "      <td>0.556</td>\n",
       "    </tr>\n",
       "    <tr>\n",
       "      <th>14</th>\n",
       "      <td>14</td>\n",
       "      <td>19</td>\n",
       "      <td>2017</td>\n",
       "      <td>0.364</td>\n",
       "      <td>0.040</td>\n",
       "      <td>0.286</td>\n",
       "    </tr>\n",
       "    <tr>\n",
       "      <th>15</th>\n",
       "      <td>15</td>\n",
       "      <td>19</td>\n",
       "      <td>2018</td>\n",
       "      <td>0.389</td>\n",
       "      <td>0.036</td>\n",
       "      <td>0.286</td>\n",
       "    </tr>\n",
       "    <tr>\n",
       "      <th>16</th>\n",
       "      <td>16</td>\n",
       "      <td>18</td>\n",
       "      <td>2015</td>\n",
       "      <td>0.277</td>\n",
       "      <td>0.069</td>\n",
       "      <td>0.267</td>\n",
       "    </tr>\n",
       "    <tr>\n",
       "      <th>17</th>\n",
       "      <td>17</td>\n",
       "      <td>18</td>\n",
       "      <td>2016</td>\n",
       "      <td>0.326</td>\n",
       "      <td>0.074</td>\n",
       "      <td>0.353</td>\n",
       "    </tr>\n",
       "    <tr>\n",
       "      <th>18</th>\n",
       "      <td>18</td>\n",
       "      <td>18</td>\n",
       "      <td>2017</td>\n",
       "      <td>0.376</td>\n",
       "      <td>0.102</td>\n",
       "      <td>0.500</td>\n",
       "    </tr>\n",
       "    <tr>\n",
       "      <th>19</th>\n",
       "      <td>19</td>\n",
       "      <td>18</td>\n",
       "      <td>2018</td>\n",
       "      <td>0.440</td>\n",
       "      <td>0.076</td>\n",
       "      <td>0.583</td>\n",
       "    </tr>\n",
       "    <tr>\n",
       "      <th>20</th>\n",
       "      <td>20</td>\n",
       "      <td>17</td>\n",
       "      <td>2015</td>\n",
       "      <td>0.377</td>\n",
       "      <td>0.052</td>\n",
       "      <td>0.583</td>\n",
       "    </tr>\n",
       "    <tr>\n",
       "      <th>21</th>\n",
       "      <td>21</td>\n",
       "      <td>17</td>\n",
       "      <td>2016</td>\n",
       "      <td>0.409</td>\n",
       "      <td>0.086</td>\n",
       "      <td>0.286</td>\n",
       "    </tr>\n",
       "    <tr>\n",
       "      <th>22</th>\n",
       "      <td>22</td>\n",
       "      <td>17</td>\n",
       "      <td>2017</td>\n",
       "      <td>0.460</td>\n",
       "      <td>0.067</td>\n",
       "      <td>0.562</td>\n",
       "    </tr>\n",
       "    <tr>\n",
       "      <th>23</th>\n",
       "      <td>23</td>\n",
       "      <td>17</td>\n",
       "      <td>2018</td>\n",
       "      <td>0.496</td>\n",
       "      <td>0.007</td>\n",
       "      <td>0.643</td>\n",
       "    </tr>\n",
       "    <tr>\n",
       "      <th>24</th>\n",
       "      <td>24</td>\n",
       "      <td>16</td>\n",
       "      <td>2015</td>\n",
       "      <td>0.293</td>\n",
       "      <td>0.054</td>\n",
       "      <td>0.375</td>\n",
       "    </tr>\n",
       "    <tr>\n",
       "      <th>25</th>\n",
       "      <td>25</td>\n",
       "      <td>16</td>\n",
       "      <td>2016</td>\n",
       "      <td>0.331</td>\n",
       "      <td>0.042</td>\n",
       "      <td>0.455</td>\n",
       "    </tr>\n",
       "    <tr>\n",
       "      <th>26</th>\n",
       "      <td>26</td>\n",
       "      <td>16</td>\n",
       "      <td>2017</td>\n",
       "      <td>0.359</td>\n",
       "      <td>0.049</td>\n",
       "      <td>0.444</td>\n",
       "    </tr>\n",
       "    <tr>\n",
       "      <th>27</th>\n",
       "      <td>27</td>\n",
       "      <td>16</td>\n",
       "      <td>2018</td>\n",
       "      <td>0.390</td>\n",
       "      <td>0.017</td>\n",
       "      <td>0.500</td>\n",
       "    </tr>\n",
       "    <tr>\n",
       "      <th>28</th>\n",
       "      <td>28</td>\n",
       "      <td>15</td>\n",
       "      <td>2015</td>\n",
       "      <td>0.080</td>\n",
       "      <td>0.029</td>\n",
       "      <td>0.500</td>\n",
       "    </tr>\n",
       "    <tr>\n",
       "      <th>29</th>\n",
       "      <td>29</td>\n",
       "      <td>15</td>\n",
       "      <td>2016</td>\n",
       "      <td>0.106</td>\n",
       "      <td>0.013</td>\n",
       "      <td>0.000</td>\n",
       "    </tr>\n",
       "    <tr>\n",
       "      <th>30</th>\n",
       "      <td>30</td>\n",
       "      <td>15</td>\n",
       "      <td>2017</td>\n",
       "      <td>0.117</td>\n",
       "      <td>0.030</td>\n",
       "      <td>0.400</td>\n",
       "    </tr>\n",
       "    <tr>\n",
       "      <th>31</th>\n",
       "      <td>31</td>\n",
       "      <td>15</td>\n",
       "      <td>2018</td>\n",
       "      <td>0.144</td>\n",
       "      <td>0.009</td>\n",
       "      <td>1.000</td>\n",
       "    </tr>\n",
       "    <tr>\n",
       "      <th>32</th>\n",
       "      <td>32</td>\n",
       "      <td>14</td>\n",
       "      <td>2015</td>\n",
       "      <td>0.121</td>\n",
       "      <td>0.033</td>\n",
       "      <td>0.118</td>\n",
       "    </tr>\n",
       "    <tr>\n",
       "      <th>33</th>\n",
       "      <td>33</td>\n",
       "      <td>14</td>\n",
       "      <td>2016</td>\n",
       "      <td>0.150</td>\n",
       "      <td>0.009</td>\n",
       "      <td>0.318</td>\n",
       "    </tr>\n",
       "    <tr>\n",
       "      <th>34</th>\n",
       "      <td>34</td>\n",
       "      <td>14</td>\n",
       "      <td>2017</td>\n",
       "      <td>0.158</td>\n",
       "      <td>0.026</td>\n",
       "      <td>0.059</td>\n",
       "    </tr>\n",
       "    <tr>\n",
       "      <th>35</th>\n",
       "      <td>35</td>\n",
       "      <td>14</td>\n",
       "      <td>2018</td>\n",
       "      <td>0.179</td>\n",
       "      <td>0.036</td>\n",
       "      <td>0.278</td>\n",
       "    </tr>\n",
       "    <tr>\n",
       "      <th>36</th>\n",
       "      <td>36</td>\n",
       "      <td>13</td>\n",
       "      <td>2015</td>\n",
       "      <td>0.084</td>\n",
       "      <td>0.038</td>\n",
       "      <td>0.286</td>\n",
       "    </tr>\n",
       "    <tr>\n",
       "      <th>37</th>\n",
       "      <td>37</td>\n",
       "      <td>13</td>\n",
       "      <td>2016</td>\n",
       "      <td>0.119</td>\n",
       "      <td>0.040</td>\n",
       "      <td>0.167</td>\n",
       "    </tr>\n",
       "    <tr>\n",
       "      <th>38</th>\n",
       "      <td>38</td>\n",
       "      <td>13</td>\n",
       "      <td>2017</td>\n",
       "      <td>0.154</td>\n",
       "      <td>0.052</td>\n",
       "      <td>0.286</td>\n",
       "    </tr>\n",
       "    <tr>\n",
       "      <th>39</th>\n",
       "      <td>39</td>\n",
       "      <td>13</td>\n",
       "      <td>2018</td>\n",
       "      <td>0.198</td>\n",
       "      <td>0.022</td>\n",
       "      <td>0.615</td>\n",
       "    </tr>\n",
       "  </tbody>\n",
       "</table>\n",
       "</div>"
      ],
      "text/plain": [
       "    Unnamed: 0  Mile  Year  Percent Damaged  \\\n",
       "0            0    22  2015            0.187   \n",
       "1            1    22  2016            0.218   \n",
       "2            2    22  2017            0.239   \n",
       "3            3    22  2018            0.266   \n",
       "4            4    21  2015            0.189   \n",
       "5            5    21  2016            0.219   \n",
       "6            6    21  2017            0.248   \n",
       "7            7    21  2018            0.275   \n",
       "8            8    20  2015            0.092   \n",
       "9            9    20  2016            0.114   \n",
       "10          10    20  2017            0.125   \n",
       "11          11    20  2018            0.140   \n",
       "12          12    19  2015            0.298   \n",
       "13          13    19  2016            0.331   \n",
       "14          14    19  2017            0.364   \n",
       "15          15    19  2018            0.389   \n",
       "16          16    18  2015            0.277   \n",
       "17          17    18  2016            0.326   \n",
       "18          18    18  2017            0.376   \n",
       "19          19    18  2018            0.440   \n",
       "20          20    17  2015            0.377   \n",
       "21          21    17  2016            0.409   \n",
       "22          22    17  2017            0.460   \n",
       "23          23    17  2018            0.496   \n",
       "24          24    16  2015            0.293   \n",
       "25          25    16  2016            0.331   \n",
       "26          26    16  2017            0.359   \n",
       "27          27    16  2018            0.390   \n",
       "28          28    15  2015            0.080   \n",
       "29          29    15  2016            0.106   \n",
       "30          30    15  2017            0.117   \n",
       "31          31    15  2018            0.144   \n",
       "32          32    14  2015            0.121   \n",
       "33          33    14  2016            0.150   \n",
       "34          34    14  2017            0.158   \n",
       "35          35    14  2018            0.179   \n",
       "36          36    13  2015            0.084   \n",
       "37          37    13  2016            0.119   \n",
       "38          38    13  2017            0.154   \n",
       "39          39    13  2018            0.198   \n",
       "\n",
       "    Percentage of NC that Transitioned to Damaged  \\\n",
       "0                                           0.038   \n",
       "1                                           0.027   \n",
       "2                                           0.036   \n",
       "3                                           0.024   \n",
       "4                                           0.037   \n",
       "5                                           0.038   \n",
       "6                                           0.035   \n",
       "7                                           0.027   \n",
       "8                                           0.024   \n",
       "9                                           0.012   \n",
       "10                                          0.017   \n",
       "11                                          0.013   \n",
       "12                                          0.047   \n",
       "13                                          0.049   \n",
       "14                                          0.040   \n",
       "15                                          0.036   \n",
       "16                                          0.069   \n",
       "17                                          0.074   \n",
       "18                                          0.102   \n",
       "19                                          0.076   \n",
       "20                                          0.052   \n",
       "21                                          0.086   \n",
       "22                                          0.067   \n",
       "23                                          0.007   \n",
       "24                                          0.054   \n",
       "25                                          0.042   \n",
       "26                                          0.049   \n",
       "27                                          0.017   \n",
       "28                                          0.029   \n",
       "29                                          0.013   \n",
       "30                                          0.030   \n",
       "31                                          0.009   \n",
       "32                                          0.033   \n",
       "33                                          0.009   \n",
       "34                                          0.026   \n",
       "35                                          0.036   \n",
       "36                                          0.038   \n",
       "37                                          0.040   \n",
       "38                                          0.052   \n",
       "39                                          0.022   \n",
       "\n",
       "    Percentage of Mildly Damaged to Critically Damaged  \n",
       "0                                               0.222   \n",
       "1                                               0.368   \n",
       "2                                               0.333   \n",
       "3                                               0.500   \n",
       "4                                               0.375   \n",
       "5                                               0.286   \n",
       "6                                               0.500   \n",
       "7                                               0.385   \n",
       "8                                               0.286   \n",
       "9                                               0.429   \n",
       "10                                              0.667   \n",
       "11                                              0.667   \n",
       "12                                              0.455   \n",
       "13                                              0.556   \n",
       "14                                              0.286   \n",
       "15                                              0.286   \n",
       "16                                              0.267   \n",
       "17                                              0.353   \n",
       "18                                              0.500   \n",
       "19                                              0.583   \n",
       "20                                              0.583   \n",
       "21                                              0.286   \n",
       "22                                              0.562   \n",
       "23                                              0.643   \n",
       "24                                              0.375   \n",
       "25                                              0.455   \n",
       "26                                              0.444   \n",
       "27                                              0.500   \n",
       "28                                              0.500   \n",
       "29                                              0.000   \n",
       "30                                              0.400   \n",
       "31                                              1.000   \n",
       "32                                              0.118   \n",
       "33                                              0.318   \n",
       "34                                              0.059   \n",
       "35                                              0.278   \n",
       "36                                              0.286   \n",
       "37                                              0.167   \n",
       "38                                              0.286   \n",
       "39                                              0.615   "
      ]
     },
     "metadata": {},
     "output_type": "display_data"
    }
   ],
   "source": [
    "import pandas as pd\n",
    "import matplotlib.pyplot as plt\n",
    "import seaborn as sns\n",
    "import numpy as np\n",
    "import plotly.express as px\n",
    "\n",
    "from sklearn.cluster import KMeans\n",
    "from sklearn.preprocessing import StandardScaler\n",
    "\n",
    "df = pd.read_csv('../spreadsheet_data/rate_of_damage_vs_damage.csv')\n",
    "\n",
    "display(df)"
   ]
  },
  {
   "cell_type": "markdown",
   "metadata": {},
   "source": [
    "# Outliers\n",
    "Removing outliers consists of looking at each column of the two variables that will be analyzed in the k-means clustering algorithm. For each variable, a datapoint was removed if the value is less than $Q1 - 1.5IQR$ or greater than $Q3 + 1.5IQR$. Below are the distributions of the two variables I will be analyzing."
   ]
  },
  {
   "cell_type": "code",
   "execution_count": 70,
   "metadata": {},
   "outputs": [
    {
     "data": {
      "image/png": "[encoded data removed]",
      "text/plain": [
       "<Figure size 1000x500 with 1 Axes>"
      ]
     },
     "metadata": {},
     "output_type": "display_data"
    }
   ],
   "source": [
    "boxplot = df.boxplot(column=['Percentage of NC that Transitioned to Damaged', 'Percentage of Mildly Damaged to Critically Damaged'], figsize=(10, 5))"
   ]
  },
  {
   "cell_type": "code",
   "execution_count": 84,
   "metadata": {},
   "outputs": [
    {
     "name": "stdout",
     "output_type": "stream",
     "text": [
      "0.0815\n",
      "0.8210000000000001\n"
     ]
    },
    {
     "data": {
      "text/html": [
       "<div>\n",
       "<style scoped>\n",
       "    .dataframe tbody tr th:only-of-type {\n",
       "        vertical-align: middle;\n",
       "    }\n",
       "\n",
       "    .dataframe tbody tr th {\n",
       "        vertical-align: top;\n",
       "    }\n",
       "\n",
       "    .dataframe thead th {\n",
       "        text-align: right;\n",
       "    }\n",
       "</style>\n",
       "<table border=\"1\" class=\"dataframe\">\n",
       "  <thead>\n",
       "    <tr style=\"text-align: right;\">\n",
       "      <th></th>\n",
       "      <th>Unnamed: 0</th>\n",
       "      <th>Mile</th>\n",
       "      <th>Year</th>\n",
       "      <th>Percent Damaged</th>\n",
       "      <th>Percentage of NC that Transitioned to Damaged</th>\n",
       "      <th>Percentage of Mildly Damaged to Critically Damaged</th>\n",
       "      <th>S_NC_to_damaged</th>\n",
       "      <th>S_mild_to_critical</th>\n",
       "      <th>k_means</th>\n",
       "      <th>id</th>\n",
       "    </tr>\n",
       "  </thead>\n",
       "  <tbody>\n",
       "    <tr>\n",
       "      <th>0</th>\n",
       "      <td>0</td>\n",
       "      <td>22</td>\n",
       "      <td>2015</td>\n",
       "      <td>0.187</td>\n",
       "      <td>0.038</td>\n",
       "      <td>0.222</td>\n",
       "      <td>0.110113</td>\n",
       "      <td>-1.027179</td>\n",
       "      <td>0</td>\n",
       "      <td>Mile: 22 Year: 2015</td>\n",
       "    </tr>\n",
       "    <tr>\n",
       "      <th>1</th>\n",
       "      <td>1</td>\n",
       "      <td>22</td>\n",
       "      <td>2016</td>\n",
       "      <td>0.218</td>\n",
       "      <td>0.027</td>\n",
       "      <td>0.368</td>\n",
       "      <td>-0.521096</td>\n",
       "      <td>-0.129166</td>\n",
       "      <td>0</td>\n",
       "      <td>Mile: 22 Year: 2016</td>\n",
       "    </tr>\n",
       "    <tr>\n",
       "      <th>2</th>\n",
       "      <td>2</td>\n",
       "      <td>22</td>\n",
       "      <td>2017</td>\n",
       "      <td>0.239</td>\n",
       "      <td>0.036</td>\n",
       "      <td>0.333</td>\n",
       "      <td>-0.004653</td>\n",
       "      <td>-0.344443</td>\n",
       "      <td>0</td>\n",
       "      <td>Mile: 22 Year: 2017</td>\n",
       "    </tr>\n",
       "    <tr>\n",
       "      <th>3</th>\n",
       "      <td>3</td>\n",
       "      <td>22</td>\n",
       "      <td>2018</td>\n",
       "      <td>0.266</td>\n",
       "      <td>0.024</td>\n",
       "      <td>0.500</td>\n",
       "      <td>-0.693244</td>\n",
       "      <td>0.682736</td>\n",
       "      <td>2</td>\n",
       "      <td>Mile: 22 Year: 2018</td>\n",
       "    </tr>\n",
       "    <tr>\n",
       "      <th>4</th>\n",
       "      <td>4</td>\n",
       "      <td>21</td>\n",
       "      <td>2015</td>\n",
       "      <td>0.189</td>\n",
       "      <td>0.037</td>\n",
       "      <td>0.375</td>\n",
       "      <td>0.052730</td>\n",
       "      <td>-0.086111</td>\n",
       "      <td>0</td>\n",
       "      <td>Mile: 21 Year: 2015</td>\n",
       "    </tr>\n",
       "    <tr>\n",
       "      <th>5</th>\n",
       "      <td>5</td>\n",
       "      <td>21</td>\n",
       "      <td>2016</td>\n",
       "      <td>0.219</td>\n",
       "      <td>0.038</td>\n",
       "      <td>0.286</td>\n",
       "      <td>0.110113</td>\n",
       "      <td>-0.633530</td>\n",
       "      <td>0</td>\n",
       "      <td>Mile: 21 Year: 2016</td>\n",
       "    </tr>\n",
       "    <tr>\n",
       "      <th>6</th>\n",
       "      <td>6</td>\n",
       "      <td>21</td>\n",
       "      <td>2017</td>\n",
       "      <td>0.248</td>\n",
       "      <td>0.035</td>\n",
       "      <td>0.500</td>\n",
       "      <td>-0.062035</td>\n",
       "      <td>0.682736</td>\n",
       "      <td>2</td>\n",
       "      <td>Mile: 21 Year: 2017</td>\n",
       "    </tr>\n",
       "    <tr>\n",
       "      <th>7</th>\n",
       "      <td>7</td>\n",
       "      <td>21</td>\n",
       "      <td>2018</td>\n",
       "      <td>0.275</td>\n",
       "      <td>0.027</td>\n",
       "      <td>0.385</td>\n",
       "      <td>-0.521096</td>\n",
       "      <td>-0.024603</td>\n",
       "      <td>0</td>\n",
       "      <td>Mile: 21 Year: 2018</td>\n",
       "    </tr>\n",
       "    <tr>\n",
       "      <th>8</th>\n",
       "      <td>8</td>\n",
       "      <td>20</td>\n",
       "      <td>2015</td>\n",
       "      <td>0.092</td>\n",
       "      <td>0.024</td>\n",
       "      <td>0.286</td>\n",
       "      <td>-0.693244</td>\n",
       "      <td>-0.633530</td>\n",
       "      <td>0</td>\n",
       "      <td>Mile: 20 Year: 2015</td>\n",
       "    </tr>\n",
       "    <tr>\n",
       "      <th>9</th>\n",
       "      <td>9</td>\n",
       "      <td>20</td>\n",
       "      <td>2016</td>\n",
       "      <td>0.114</td>\n",
       "      <td>0.012</td>\n",
       "      <td>0.429</td>\n",
       "      <td>-1.381836</td>\n",
       "      <td>0.246031</td>\n",
       "      <td>2</td>\n",
       "      <td>Mile: 20 Year: 2016</td>\n",
       "    </tr>\n",
       "    <tr>\n",
       "      <th>10</th>\n",
       "      <td>10</td>\n",
       "      <td>20</td>\n",
       "      <td>2017</td>\n",
       "      <td>0.125</td>\n",
       "      <td>0.017</td>\n",
       "      <td>0.667</td>\n",
       "      <td>-1.094922</td>\n",
       "      <td>1.709915</td>\n",
       "      <td>2</td>\n",
       "      <td>Mile: 20 Year: 2017</td>\n",
       "    </tr>\n",
       "    <tr>\n",
       "      <th>11</th>\n",
       "      <td>11</td>\n",
       "      <td>20</td>\n",
       "      <td>2018</td>\n",
       "      <td>0.140</td>\n",
       "      <td>0.013</td>\n",
       "      <td>0.667</td>\n",
       "      <td>-1.324453</td>\n",
       "      <td>1.709915</td>\n",
       "      <td>2</td>\n",
       "      <td>Mile: 20 Year: 2018</td>\n",
       "    </tr>\n",
       "    <tr>\n",
       "      <th>12</th>\n",
       "      <td>12</td>\n",
       "      <td>19</td>\n",
       "      <td>2015</td>\n",
       "      <td>0.298</td>\n",
       "      <td>0.047</td>\n",
       "      <td>0.455</td>\n",
       "      <td>0.626556</td>\n",
       "      <td>0.405951</td>\n",
       "      <td>1</td>\n",
       "      <td>Mile: 19 Year: 2015</td>\n",
       "    </tr>\n",
       "    <tr>\n",
       "      <th>13</th>\n",
       "      <td>13</td>\n",
       "      <td>19</td>\n",
       "      <td>2016</td>\n",
       "      <td>0.331</td>\n",
       "      <td>0.049</td>\n",
       "      <td>0.556</td>\n",
       "      <td>0.741321</td>\n",
       "      <td>1.027179</td>\n",
       "      <td>1</td>\n",
       "      <td>Mile: 19 Year: 2016</td>\n",
       "    </tr>\n",
       "    <tr>\n",
       "      <th>14</th>\n",
       "      <td>14</td>\n",
       "      <td>19</td>\n",
       "      <td>2017</td>\n",
       "      <td>0.364</td>\n",
       "      <td>0.040</td>\n",
       "      <td>0.286</td>\n",
       "      <td>0.224878</td>\n",
       "      <td>-0.633530</td>\n",
       "      <td>0</td>\n",
       "      <td>Mile: 19 Year: 2017</td>\n",
       "    </tr>\n",
       "    <tr>\n",
       "      <th>15</th>\n",
       "      <td>15</td>\n",
       "      <td>19</td>\n",
       "      <td>2018</td>\n",
       "      <td>0.389</td>\n",
       "      <td>0.036</td>\n",
       "      <td>0.286</td>\n",
       "      <td>-0.004653</td>\n",
       "      <td>-0.633530</td>\n",
       "      <td>0</td>\n",
       "      <td>Mile: 19 Year: 2018</td>\n",
       "    </tr>\n",
       "    <tr>\n",
       "      <th>16</th>\n",
       "      <td>16</td>\n",
       "      <td>18</td>\n",
       "      <td>2015</td>\n",
       "      <td>0.277</td>\n",
       "      <td>0.069</td>\n",
       "      <td>0.267</td>\n",
       "      <td>1.888974</td>\n",
       "      <td>-0.750394</td>\n",
       "      <td>1</td>\n",
       "      <td>Mile: 18 Year: 2015</td>\n",
       "    </tr>\n",
       "    <tr>\n",
       "      <th>17</th>\n",
       "      <td>17</td>\n",
       "      <td>18</td>\n",
       "      <td>2016</td>\n",
       "      <td>0.326</td>\n",
       "      <td>0.074</td>\n",
       "      <td>0.353</td>\n",
       "      <td>2.175887</td>\n",
       "      <td>-0.221428</td>\n",
       "      <td>1</td>\n",
       "      <td>Mile: 18 Year: 2016</td>\n",
       "    </tr>\n",
       "    <tr>\n",
       "      <th>19</th>\n",
       "      <td>19</td>\n",
       "      <td>18</td>\n",
       "      <td>2018</td>\n",
       "      <td>0.440</td>\n",
       "      <td>0.076</td>\n",
       "      <td>0.583</td>\n",
       "      <td>2.290652</td>\n",
       "      <td>1.193250</td>\n",
       "      <td>1</td>\n",
       "      <td>Mile: 18 Year: 2018</td>\n",
       "    </tr>\n",
       "    <tr>\n",
       "      <th>20</th>\n",
       "      <td>20</td>\n",
       "      <td>17</td>\n",
       "      <td>2015</td>\n",
       "      <td>0.377</td>\n",
       "      <td>0.052</td>\n",
       "      <td>0.583</td>\n",
       "      <td>0.913469</td>\n",
       "      <td>1.193250</td>\n",
       "      <td>1</td>\n",
       "      <td>Mile: 17 Year: 2015</td>\n",
       "    </tr>\n",
       "    <tr>\n",
       "      <th>22</th>\n",
       "      <td>22</td>\n",
       "      <td>17</td>\n",
       "      <td>2017</td>\n",
       "      <td>0.460</td>\n",
       "      <td>0.067</td>\n",
       "      <td>0.562</td>\n",
       "      <td>1.774209</td>\n",
       "      <td>1.064084</td>\n",
       "      <td>1</td>\n",
       "      <td>Mile: 17 Year: 2017</td>\n",
       "    </tr>\n",
       "    <tr>\n",
       "      <th>23</th>\n",
       "      <td>23</td>\n",
       "      <td>17</td>\n",
       "      <td>2018</td>\n",
       "      <td>0.496</td>\n",
       "      <td>0.007</td>\n",
       "      <td>0.643</td>\n",
       "      <td>-1.668749</td>\n",
       "      <td>1.562296</td>\n",
       "      <td>2</td>\n",
       "      <td>Mile: 17 Year: 2018</td>\n",
       "    </tr>\n",
       "    <tr>\n",
       "      <th>24</th>\n",
       "      <td>24</td>\n",
       "      <td>16</td>\n",
       "      <td>2015</td>\n",
       "      <td>0.293</td>\n",
       "      <td>0.054</td>\n",
       "      <td>0.375</td>\n",
       "      <td>1.028235</td>\n",
       "      <td>-0.086111</td>\n",
       "      <td>1</td>\n",
       "      <td>Mile: 16 Year: 2015</td>\n",
       "    </tr>\n",
       "    <tr>\n",
       "      <th>25</th>\n",
       "      <td>25</td>\n",
       "      <td>16</td>\n",
       "      <td>2016</td>\n",
       "      <td>0.331</td>\n",
       "      <td>0.042</td>\n",
       "      <td>0.455</td>\n",
       "      <td>0.339643</td>\n",
       "      <td>0.405951</td>\n",
       "      <td>1</td>\n",
       "      <td>Mile: 16 Year: 2016</td>\n",
       "    </tr>\n",
       "    <tr>\n",
       "      <th>26</th>\n",
       "      <td>26</td>\n",
       "      <td>16</td>\n",
       "      <td>2017</td>\n",
       "      <td>0.359</td>\n",
       "      <td>0.049</td>\n",
       "      <td>0.444</td>\n",
       "      <td>0.741321</td>\n",
       "      <td>0.338292</td>\n",
       "      <td>1</td>\n",
       "      <td>Mile: 16 Year: 2017</td>\n",
       "    </tr>\n",
       "    <tr>\n",
       "      <th>27</th>\n",
       "      <td>27</td>\n",
       "      <td>16</td>\n",
       "      <td>2018</td>\n",
       "      <td>0.390</td>\n",
       "      <td>0.017</td>\n",
       "      <td>0.500</td>\n",
       "      <td>-1.094922</td>\n",
       "      <td>0.682736</td>\n",
       "      <td>2</td>\n",
       "      <td>Mile: 16 Year: 2018</td>\n",
       "    </tr>\n",
       "    <tr>\n",
       "      <th>28</th>\n",
       "      <td>28</td>\n",
       "      <td>15</td>\n",
       "      <td>2015</td>\n",
       "      <td>0.080</td>\n",
       "      <td>0.029</td>\n",
       "      <td>0.500</td>\n",
       "      <td>-0.406331</td>\n",
       "      <td>0.682736</td>\n",
       "      <td>2</td>\n",
       "      <td>Mile: 15 Year: 2015</td>\n",
       "    </tr>\n",
       "    <tr>\n",
       "      <th>29</th>\n",
       "      <td>29</td>\n",
       "      <td>15</td>\n",
       "      <td>2016</td>\n",
       "      <td>0.106</td>\n",
       "      <td>0.013</td>\n",
       "      <td>0.000</td>\n",
       "      <td>-1.324453</td>\n",
       "      <td>-2.392650</td>\n",
       "      <td>0</td>\n",
       "      <td>Mile: 15 Year: 2016</td>\n",
       "    </tr>\n",
       "    <tr>\n",
       "      <th>30</th>\n",
       "      <td>30</td>\n",
       "      <td>15</td>\n",
       "      <td>2017</td>\n",
       "      <td>0.117</td>\n",
       "      <td>0.030</td>\n",
       "      <td>0.400</td>\n",
       "      <td>-0.348948</td>\n",
       "      <td>0.067658</td>\n",
       "      <td>0</td>\n",
       "      <td>Mile: 15 Year: 2017</td>\n",
       "    </tr>\n",
       "    <tr>\n",
       "      <th>32</th>\n",
       "      <td>32</td>\n",
       "      <td>14</td>\n",
       "      <td>2015</td>\n",
       "      <td>0.121</td>\n",
       "      <td>0.033</td>\n",
       "      <td>0.118</td>\n",
       "      <td>-0.176801</td>\n",
       "      <td>-1.666859</td>\n",
       "      <td>0</td>\n",
       "      <td>Mile: 14 Year: 2015</td>\n",
       "    </tr>\n",
       "    <tr>\n",
       "      <th>33</th>\n",
       "      <td>33</td>\n",
       "      <td>14</td>\n",
       "      <td>2016</td>\n",
       "      <td>0.150</td>\n",
       "      <td>0.009</td>\n",
       "      <td>0.318</td>\n",
       "      <td>-1.553983</td>\n",
       "      <td>-0.436705</td>\n",
       "      <td>0</td>\n",
       "      <td>Mile: 14 Year: 2016</td>\n",
       "    </tr>\n",
       "    <tr>\n",
       "      <th>34</th>\n",
       "      <td>34</td>\n",
       "      <td>14</td>\n",
       "      <td>2017</td>\n",
       "      <td>0.158</td>\n",
       "      <td>0.026</td>\n",
       "      <td>0.059</td>\n",
       "      <td>-0.578479</td>\n",
       "      <td>-2.029755</td>\n",
       "      <td>0</td>\n",
       "      <td>Mile: 14 Year: 2017</td>\n",
       "    </tr>\n",
       "    <tr>\n",
       "      <th>35</th>\n",
       "      <td>35</td>\n",
       "      <td>14</td>\n",
       "      <td>2018</td>\n",
       "      <td>0.179</td>\n",
       "      <td>0.036</td>\n",
       "      <td>0.278</td>\n",
       "      <td>-0.004653</td>\n",
       "      <td>-0.682736</td>\n",
       "      <td>0</td>\n",
       "      <td>Mile: 14 Year: 2018</td>\n",
       "    </tr>\n",
       "    <tr>\n",
       "      <th>36</th>\n",
       "      <td>36</td>\n",
       "      <td>13</td>\n",
       "      <td>2015</td>\n",
       "      <td>0.084</td>\n",
       "      <td>0.038</td>\n",
       "      <td>0.286</td>\n",
       "      <td>0.110113</td>\n",
       "      <td>-0.633530</td>\n",
       "      <td>0</td>\n",
       "      <td>Mile: 13 Year: 2015</td>\n",
       "    </tr>\n",
       "    <tr>\n",
       "      <th>37</th>\n",
       "      <td>37</td>\n",
       "      <td>13</td>\n",
       "      <td>2016</td>\n",
       "      <td>0.119</td>\n",
       "      <td>0.040</td>\n",
       "      <td>0.167</td>\n",
       "      <td>0.224878</td>\n",
       "      <td>-1.365471</td>\n",
       "      <td>0</td>\n",
       "      <td>Mile: 13 Year: 2016</td>\n",
       "    </tr>\n",
       "    <tr>\n",
       "      <th>38</th>\n",
       "      <td>38</td>\n",
       "      <td>13</td>\n",
       "      <td>2017</td>\n",
       "      <td>0.154</td>\n",
       "      <td>0.052</td>\n",
       "      <td>0.286</td>\n",
       "      <td>0.913469</td>\n",
       "      <td>-0.633530</td>\n",
       "      <td>1</td>\n",
       "      <td>Mile: 13 Year: 2017</td>\n",
       "    </tr>\n",
       "    <tr>\n",
       "      <th>39</th>\n",
       "      <td>39</td>\n",
       "      <td>13</td>\n",
       "      <td>2018</td>\n",
       "      <td>0.198</td>\n",
       "      <td>0.022</td>\n",
       "      <td>0.615</td>\n",
       "      <td>-0.808009</td>\n",
       "      <td>1.390075</td>\n",
       "      <td>2</td>\n",
       "      <td>Mile: 13 Year: 2018</td>\n",
       "    </tr>\n",
       "  </tbody>\n",
       "</table>\n",
       "</div>"
      ],
      "text/plain": [
       "    Unnamed: 0  Mile  Year  Percent Damaged  \\\n",
       "0            0    22  2015            0.187   \n",
       "1            1    22  2016            0.218   \n",
       "2            2    22  2017            0.239   \n",
       "3            3    22  2018            0.266   \n",
       "4            4    21  2015            0.189   \n",
       "5            5    21  2016            0.219   \n",
       "6            6    21  2017            0.248   \n",
       "7            7    21  2018            0.275   \n",
       "8            8    20  2015            0.092   \n",
       "9            9    20  2016            0.114   \n",
       "10          10    20  2017            0.125   \n",
       "11          11    20  2018            0.140   \n",
       "12          12    19  2015            0.298   \n",
       "13          13    19  2016            0.331   \n",
       "14          14    19  2017            0.364   \n",
       "15          15    19  2018            0.389   \n",
       "16          16    18  2015            0.277   \n",
       "17          17    18  2016            0.326   \n",
       "19          19    18  2018            0.440   \n",
       "20          20    17  2015            0.377   \n",
       "22          22    17  2017            0.460   \n",
       "23          23    17  2018            0.496   \n",
       "24          24    16  2015            0.293   \n",
       "25          25    16  2016            0.331   \n",
       "26          26    16  2017            0.359   \n",
       "27          27    16  2018            0.390   \n",
       "28          28    15  2015            0.080   \n",
       "29          29    15  2016            0.106   \n",
       "30          30    15  2017            0.117   \n",
       "32          32    14  2015            0.121   \n",
       "33          33    14  2016            0.150   \n",
       "34          34    14  2017            0.158   \n",
       "35          35    14  2018            0.179   \n",
       "36          36    13  2015            0.084   \n",
       "37          37    13  2016            0.119   \n",
       "38          38    13  2017            0.154   \n",
       "39          39    13  2018            0.198   \n",
       "\n",
       "    Percentage of NC that Transitioned to Damaged  \\\n",
       "0                                           0.038   \n",
       "1                                           0.027   \n",
       "2                                           0.036   \n",
       "3                                           0.024   \n",
       "4                                           0.037   \n",
       "5                                           0.038   \n",
       "6                                           0.035   \n",
       "7                                           0.027   \n",
       "8                                           0.024   \n",
       "9                                           0.012   \n",
       "10                                          0.017   \n",
       "11                                          0.013   \n",
       "12                                          0.047   \n",
       "13                                          0.049   \n",
       "14                                          0.040   \n",
       "15                                          0.036   \n",
       "16                                          0.069   \n",
       "17                                          0.074   \n",
       "19                                          0.076   \n",
       "20                                          0.052   \n",
       "22                                          0.067   \n",
       "23                                          0.007   \n",
       "24                                          0.054   \n",
       "25                                          0.042   \n",
       "26                                          0.049   \n",
       "27                                          0.017   \n",
       "28                                          0.029   \n",
       "29                                          0.013   \n",
       "30                                          0.030   \n",
       "32                                          0.033   \n",
       "33                                          0.009   \n",
       "34                                          0.026   \n",
       "35                                          0.036   \n",
       "36                                          0.038   \n",
       "37                                          0.040   \n",
       "38                                          0.052   \n",
       "39                                          0.022   \n",
       "\n",
       "    Percentage of Mildly Damaged to Critically Damaged  S_NC_to_damaged  \\\n",
       "0                                               0.222          0.110113   \n",
       "1                                               0.368         -0.521096   \n",
       "2                                               0.333         -0.004653   \n",
       "3                                               0.500         -0.693244   \n",
       "4                                               0.375          0.052730   \n",
       "5                                               0.286          0.110113   \n",
       "6                                               0.500         -0.062035   \n",
       "7                                               0.385         -0.521096   \n",
       "8                                               0.286         -0.693244   \n",
       "9                                               0.429         -1.381836   \n",
       "10                                              0.667         -1.094922   \n",
       "11                                              0.667         -1.324453   \n",
       "12                                              0.455          0.626556   \n",
       "13                                              0.556          0.741321   \n",
       "14                                              0.286          0.224878   \n",
       "15                                              0.286         -0.004653   \n",
       "16                                              0.267          1.888974   \n",
       "17                                              0.353          2.175887   \n",
       "19                                              0.583          2.290652   \n",
       "20                                              0.583          0.913469   \n",
       "22                                              0.562          1.774209   \n",
       "23                                              0.643         -1.668749   \n",
       "24                                              0.375          1.028235   \n",
       "25                                              0.455          0.339643   \n",
       "26                                              0.444          0.741321   \n",
       "27                                              0.500         -1.094922   \n",
       "28                                              0.500         -0.406331   \n",
       "29                                              0.000         -1.324453   \n",
       "30                                              0.400         -0.348948   \n",
       "32                                              0.118         -0.176801   \n",
       "33                                              0.318         -1.553983   \n",
       "34                                              0.059         -0.578479   \n",
       "35                                              0.278         -0.004653   \n",
       "36                                              0.286          0.110113   \n",
       "37                                              0.167          0.224878   \n",
       "38                                              0.286          0.913469   \n",
       "39                                              0.615         -0.808009   \n",
       "\n",
       "    S_mild_to_critical k_means                   id  \n",
       "0            -1.027179       0  Mile: 22 Year: 2015  \n",
       "1            -0.129166       0  Mile: 22 Year: 2016  \n",
       "2            -0.344443       0  Mile: 22 Year: 2017  \n",
       "3             0.682736       2  Mile: 22 Year: 2018  \n",
       "4            -0.086111       0  Mile: 21 Year: 2015  \n",
       "5            -0.633530       0  Mile: 21 Year: 2016  \n",
       "6             0.682736       2  Mile: 21 Year: 2017  \n",
       "7            -0.024603       0  Mile: 21 Year: 2018  \n",
       "8            -0.633530       0  Mile: 20 Year: 2015  \n",
       "9             0.246031       2  Mile: 20 Year: 2016  \n",
       "10            1.709915       2  Mile: 20 Year: 2017  \n",
       "11            1.709915       2  Mile: 20 Year: 2018  \n",
       "12            0.405951       1  Mile: 19 Year: 2015  \n",
       "13            1.027179       1  Mile: 19 Year: 2016  \n",
       "14           -0.633530       0  Mile: 19 Year: 2017  \n",
       "15           -0.633530       0  Mile: 19 Year: 2018  \n",
       "16           -0.750394       1  Mile: 18 Year: 2015  \n",
       "17           -0.221428       1  Mile: 18 Year: 2016  \n",
       "19            1.193250       1  Mile: 18 Year: 2018  \n",
       "20            1.193250       1  Mile: 17 Year: 2015  \n",
       "22            1.064084       1  Mile: 17 Year: 2017  \n",
       "23            1.562296       2  Mile: 17 Year: 2018  \n",
       "24           -0.086111       1  Mile: 16 Year: 2015  \n",
       "25            0.405951       1  Mile: 16 Year: 2016  \n",
       "26            0.338292       1  Mile: 16 Year: 2017  \n",
       "27            0.682736       2  Mile: 16 Year: 2018  \n",
       "28            0.682736       2  Mile: 15 Year: 2015  \n",
       "29           -2.392650       0  Mile: 15 Year: 2016  \n",
       "30            0.067658       0  Mile: 15 Year: 2017  \n",
       "32           -1.666859       0  Mile: 14 Year: 2015  \n",
       "33           -0.436705       0  Mile: 14 Year: 2016  \n",
       "34           -2.029755       0  Mile: 14 Year: 2017  \n",
       "35           -0.682736       0  Mile: 14 Year: 2018  \n",
       "36           -0.633530       0  Mile: 13 Year: 2015  \n",
       "37           -1.365471       0  Mile: 13 Year: 2016  \n",
       "38           -0.633530       1  Mile: 13 Year: 2017  \n",
       "39            1.390075       2  Mile: 13 Year: 2018  "
      ]
     },
     "metadata": {},
     "output_type": "display_data"
    },
    {
     "data": {
      "image/png": "[encoded data removed]",
      "text/plain": [
       "<Figure size 1000x500 with 1 Axes>"
      ]
     },
     "metadata": {},
     "output_type": "display_data"
    }
   ],
   "source": [
    "\n",
    "Q1 = df['Percentage of NC that Transitioned to Damaged'].quantile(0.25)\n",
    "Q3 = df['Percentage of NC that Transitioned to Damaged'].quantile(0.75)\n",
    "IQR = Q3 - Q1\n",
    "print(IQR * 1.5 + Q3)\n",
    "df = df[(df['Percentage of NC that Transitioned to Damaged'] >= Q1 - 1.5 * IQR) & (df['Percentage of NC that Transitioned to Damaged'] <= Q3 + 1.5 * IQR)]\n",
    "Q1_2 = df['Percentage of Mildly Damaged to Critically Damaged'].quantile(0.25)\n",
    "Q3_2 = df['Percentage of Mildly Damaged to Critically Damaged'].quantile(0.75)\n",
    "IQR_2 = Q3_2 - Q1_2\n",
    "print(IQR_2 * 1.5 + Q3_2)\n",
    "df = df[(df['Percentage of Mildly Damaged to Critically Damaged'] >= Q1_2 - 1.5 * IQR_2) & (df['Percentage of Mildly Damaged to Critically Damaged'] <= Q3_2 + 1.5 * IQR_2)]\n",
    "\n",
    "\n",
    "boxplot = df.boxplot(column=['Percentage of NC that Transitioned to Damaged', 'Percentage of Mildly Damaged to Critically Damaged'], figsize=(10, 5))\n",
    "display(df)"
   ]
  },
  {
   "cell_type": "code",
   "execution_count": 85,
   "metadata": {},
   "outputs": [
    {
     "data": {
      "text/html": [
       "<div>\n",
       "<style scoped>\n",
       "    .dataframe tbody tr th:only-of-type {\n",
       "        vertical-align: middle;\n",
       "    }\n",
       "\n",
       "    .dataframe tbody tr th {\n",
       "        vertical-align: top;\n",
       "    }\n",
       "\n",
       "    .dataframe thead th {\n",
       "        text-align: right;\n",
       "    }\n",
       "</style>\n",
       "<table border=\"1\" class=\"dataframe\">\n",
       "  <thead>\n",
       "    <tr style=\"text-align: right;\">\n",
       "      <th></th>\n",
       "      <th>Unnamed: 0</th>\n",
       "      <th>Mile</th>\n",
       "      <th>Year</th>\n",
       "      <th>Percent Damaged</th>\n",
       "      <th>Percentage of NC that Transitioned to Damaged</th>\n",
       "      <th>Percentage of Mildly Damaged to Critically Damaged</th>\n",
       "      <th>S_NC_to_damaged</th>\n",
       "      <th>S_mild_to_critical</th>\n",
       "      <th>k_means</th>\n",
       "      <th>id</th>\n",
       "    </tr>\n",
       "  </thead>\n",
       "  <tbody>\n",
       "    <tr>\n",
       "      <th>0</th>\n",
       "      <td>0</td>\n",
       "      <td>22</td>\n",
       "      <td>2015</td>\n",
       "      <td>0.187</td>\n",
       "      <td>0.038</td>\n",
       "      <td>0.222</td>\n",
       "      <td>0.110113</td>\n",
       "      <td>-1.027179</td>\n",
       "      <td>0</td>\n",
       "      <td>Mile: 22 Year: 2015</td>\n",
       "    </tr>\n",
       "    <tr>\n",
       "      <th>1</th>\n",
       "      <td>1</td>\n",
       "      <td>22</td>\n",
       "      <td>2016</td>\n",
       "      <td>0.218</td>\n",
       "      <td>0.027</td>\n",
       "      <td>0.368</td>\n",
       "      <td>-0.521096</td>\n",
       "      <td>-0.129166</td>\n",
       "      <td>0</td>\n",
       "      <td>Mile: 22 Year: 2016</td>\n",
       "    </tr>\n",
       "    <tr>\n",
       "      <th>2</th>\n",
       "      <td>2</td>\n",
       "      <td>22</td>\n",
       "      <td>2017</td>\n",
       "      <td>0.239</td>\n",
       "      <td>0.036</td>\n",
       "      <td>0.333</td>\n",
       "      <td>-0.004653</td>\n",
       "      <td>-0.344443</td>\n",
       "      <td>0</td>\n",
       "      <td>Mile: 22 Year: 2017</td>\n",
       "    </tr>\n",
       "    <tr>\n",
       "      <th>3</th>\n",
       "      <td>3</td>\n",
       "      <td>22</td>\n",
       "      <td>2018</td>\n",
       "      <td>0.266</td>\n",
       "      <td>0.024</td>\n",
       "      <td>0.500</td>\n",
       "      <td>-0.693244</td>\n",
       "      <td>0.682736</td>\n",
       "      <td>2</td>\n",
       "      <td>Mile: 22 Year: 2018</td>\n",
       "    </tr>\n",
       "    <tr>\n",
       "      <th>4</th>\n",
       "      <td>4</td>\n",
       "      <td>21</td>\n",
       "      <td>2015</td>\n",
       "      <td>0.189</td>\n",
       "      <td>0.037</td>\n",
       "      <td>0.375</td>\n",
       "      <td>0.052730</td>\n",
       "      <td>-0.086111</td>\n",
       "      <td>0</td>\n",
       "      <td>Mile: 21 Year: 2015</td>\n",
       "    </tr>\n",
       "  </tbody>\n",
       "</table>\n",
       "</div>"
      ],
      "text/plain": [
       "   Unnamed: 0  Mile  Year  Percent Damaged  \\\n",
       "0           0    22  2015            0.187   \n",
       "1           1    22  2016            0.218   \n",
       "2           2    22  2017            0.239   \n",
       "3           3    22  2018            0.266   \n",
       "4           4    21  2015            0.189   \n",
       "\n",
       "   Percentage of NC that Transitioned to Damaged  \\\n",
       "0                                          0.038   \n",
       "1                                          0.027   \n",
       "2                                          0.036   \n",
       "3                                          0.024   \n",
       "4                                          0.037   \n",
       "\n",
       "   Percentage of Mildly Damaged to Critically Damaged  S_NC_to_damaged  \\\n",
       "0                                              0.222          0.110113   \n",
       "1                                              0.368         -0.521096   \n",
       "2                                              0.333         -0.004653   \n",
       "3                                              0.500         -0.693244   \n",
       "4                                              0.375          0.052730   \n",
       "\n",
       "   S_mild_to_critical k_means                   id  \n",
       "0           -1.027179       0  Mile: 22 Year: 2015  \n",
       "1           -0.129166       0  Mile: 22 Year: 2016  \n",
       "2           -0.344443       0  Mile: 22 Year: 2017  \n",
       "3            0.682736       2  Mile: 22 Year: 2018  \n",
       "4           -0.086111       0  Mile: 21 Year: 2015  "
      ]
     },
     "execution_count": 85,
     "metadata": {},
     "output_type": "execute_result"
    }
   ],
   "source": [
    "scaler = StandardScaler()\n",
    "df[['S_NC_to_damaged', 'S_mild_to_critical']] = scaler.fit_transform(df[['Percentage of NC that Transitioned to Damaged', 'Percentage of Mildly Damaged to Critically Damaged']])\n",
    "df.head()\n"
   ]
  },
  {
   "cell_type": "markdown",
   "metadata": {},
   "source": [
    "# Finding $k$ \n",
    "The process of finding the optimum $k$ was to run the $k$-means algorithm  9 times, where $1 \\leq k \\leq 9$, $k \\in \\mathbb{Z}$. For each $k$, the sum of the distance squared for each point to its nearest centroid (the intertia) was determined. A line plot was generated, and the $k$ was determined by finding the point where the change of inertia goes from high to low."
   ]
  },
  {
   "cell_type": "code",
   "execution_count": 80,
   "metadata": {},
   "outputs": [
    {
     "name": "stderr",
     "output_type": "stream",
     "text": [
      "c:\\Users\\jaden\\anaconda3\\lib\\site-packages\\sklearn\\cluster\\_kmeans.py:1036: UserWarning:\n",
      "\n",
      "KMeans is known to have a memory leak on Windows with MKL, when there are less chunks than available threads. You can avoid it by setting the environment variable OMP_NUM_THREADS=1.\n",
      "\n"
     ]
    },
    {
     "data": {
      "image/png": "[encoded data removed]",
      "text/plain": [
       "<Figure size 640x480 with 1 Axes>"
      ]
     },
     "metadata": {},
     "output_type": "display_data"
    }
   ],
   "source": [
    "def find_optimum_k(df, max_k):\n",
    "    means = []\n",
    "    inertias = []\n",
    "    for k in range(1, max_k):\n",
    "        kmeans = KMeans(n_clusters=k)\n",
    "        kmeans.fit(df)\n",
    "        means.append(k)\n",
    "        inertias.append(kmeans.inertia_)\n",
    "    plt.plot(means, inertias, '-o', color='black')\n",
    "    plt.xlabel('k')\n",
    "    plt.ylabel('inertia')\n",
    "    plt.show()\n",
    "\n",
    "\n",
    "find_optimum_k(df[['S_NC_to_damaged', 'S_mild_to_critical']], 10)"
   ]
  },
  {
   "cell_type": "code",
   "execution_count": 81,
   "metadata": {},
   "outputs": [
    {
     "data": {
      "text/html": [
       "<div>\n",
       "<style scoped>\n",
       "    .dataframe tbody tr th:only-of-type {\n",
       "        vertical-align: middle;\n",
       "    }\n",
       "\n",
       "    .dataframe tbody tr th {\n",
       "        vertical-align: top;\n",
       "    }\n",
       "\n",
       "    .dataframe thead th {\n",
       "        text-align: right;\n",
       "    }\n",
       "</style>\n",
       "<table border=\"1\" class=\"dataframe\">\n",
       "  <thead>\n",
       "    <tr style=\"text-align: right;\">\n",
       "      <th></th>\n",
       "      <th>Unnamed: 0</th>\n",
       "      <th>Mile</th>\n",
       "      <th>Year</th>\n",
       "      <th>Percent Damaged</th>\n",
       "      <th>Percentage of NC that Transitioned to Damaged</th>\n",
       "      <th>Percentage of Mildly Damaged to Critically Damaged</th>\n",
       "      <th>S_NC_to_damaged</th>\n",
       "      <th>S_mild_to_critical</th>\n",
       "      <th>k_means</th>\n",
       "      <th>id</th>\n",
       "    </tr>\n",
       "  </thead>\n",
       "  <tbody>\n",
       "    <tr>\n",
       "      <th>0</th>\n",
       "      <td>0</td>\n",
       "      <td>22</td>\n",
       "      <td>2015</td>\n",
       "      <td>0.187</td>\n",
       "      <td>0.038</td>\n",
       "      <td>0.222</td>\n",
       "      <td>0.110113</td>\n",
       "      <td>-1.027179</td>\n",
       "      <td>0</td>\n",
       "      <td>Mile: 22 Year: 2015</td>\n",
       "    </tr>\n",
       "    <tr>\n",
       "      <th>1</th>\n",
       "      <td>1</td>\n",
       "      <td>22</td>\n",
       "      <td>2016</td>\n",
       "      <td>0.218</td>\n",
       "      <td>0.027</td>\n",
       "      <td>0.368</td>\n",
       "      <td>-0.521096</td>\n",
       "      <td>-0.129166</td>\n",
       "      <td>0</td>\n",
       "      <td>Mile: 22 Year: 2016</td>\n",
       "    </tr>\n",
       "    <tr>\n",
       "      <th>2</th>\n",
       "      <td>2</td>\n",
       "      <td>22</td>\n",
       "      <td>2017</td>\n",
       "      <td>0.239</td>\n",
       "      <td>0.036</td>\n",
       "      <td>0.333</td>\n",
       "      <td>-0.004653</td>\n",
       "      <td>-0.344443</td>\n",
       "      <td>0</td>\n",
       "      <td>Mile: 22 Year: 2017</td>\n",
       "    </tr>\n",
       "    <tr>\n",
       "      <th>3</th>\n",
       "      <td>3</td>\n",
       "      <td>22</td>\n",
       "      <td>2018</td>\n",
       "      <td>0.266</td>\n",
       "      <td>0.024</td>\n",
       "      <td>0.500</td>\n",
       "      <td>-0.693244</td>\n",
       "      <td>0.682736</td>\n",
       "      <td>2</td>\n",
       "      <td>Mile: 22 Year: 2018</td>\n",
       "    </tr>\n",
       "    <tr>\n",
       "      <th>4</th>\n",
       "      <td>4</td>\n",
       "      <td>21</td>\n",
       "      <td>2015</td>\n",
       "      <td>0.189</td>\n",
       "      <td>0.037</td>\n",
       "      <td>0.375</td>\n",
       "      <td>0.052730</td>\n",
       "      <td>-0.086111</td>\n",
       "      <td>0</td>\n",
       "      <td>Mile: 21 Year: 2015</td>\n",
       "    </tr>\n",
       "  </tbody>\n",
       "</table>\n",
       "</div>"
      ],
      "text/plain": [
       "   Unnamed: 0  Mile  Year  Percent Damaged  \\\n",
       "0           0    22  2015            0.187   \n",
       "1           1    22  2016            0.218   \n",
       "2           2    22  2017            0.239   \n",
       "3           3    22  2018            0.266   \n",
       "4           4    21  2015            0.189   \n",
       "\n",
       "   Percentage of NC that Transitioned to Damaged  \\\n",
       "0                                          0.038   \n",
       "1                                          0.027   \n",
       "2                                          0.036   \n",
       "3                                          0.024   \n",
       "4                                          0.037   \n",
       "\n",
       "   Percentage of Mildly Damaged to Critically Damaged  S_NC_to_damaged  \\\n",
       "0                                              0.222          0.110113   \n",
       "1                                              0.368         -0.521096   \n",
       "2                                              0.333         -0.004653   \n",
       "3                                              0.500         -0.693244   \n",
       "4                                              0.375          0.052730   \n",
       "\n",
       "   S_mild_to_critical k_means                   id  \n",
       "0           -1.027179       0  Mile: 22 Year: 2015  \n",
       "1           -0.129166       0  Mile: 22 Year: 2016  \n",
       "2           -0.344443       0  Mile: 22 Year: 2017  \n",
       "3            0.682736       2  Mile: 22 Year: 2018  \n",
       "4           -0.086111       0  Mile: 21 Year: 2015  "
      ]
     },
     "execution_count": 81,
     "metadata": {},
     "output_type": "execute_result"
    }
   ],
   "source": [
    "kmeans = KMeans(n_clusters=3)\n",
    "kmeans.fit(df[['S_NC_to_damaged', 'S_mild_to_critical']])\n",
    "df['k_means'] = kmeans.labels_\n",
    "df['id'] = 'Mile: ' + df['Mile'].astype(str) + ' Year: ' + df['Year'].astype(str)\n",
    "df['k_means'] = df['k_means'].astype(str)   \n",
    "df.head()\n"
   ]
  },
  {
   "cell_type": "code",
   "execution_count": 82,
   "metadata": {},
   "outputs": [
    {
     "data": {
      "application/vnd.plotly.v1+json": {
       "config": {
        "plotlyServerURL": "https://plot.ly"
       },
       "data": [
        {
         "customdata": [
          [
           "Mile: 22 Year: 2015"
          ],
          [
           "Mile: 22 Year: 2016"
          ],
          [
           "Mile: 22 Year: 2017"
          ],
          [
           "Mile: 21 Year: 2015"
          ],
          [
           "Mile: 21 Year: 2016"
          ],
          [
           "Mile: 21 Year: 2018"
          ],
          [
           "Mile: 20 Year: 2015"
          ],
          [
           "Mile: 19 Year: 2017"
          ],
          [
           "Mile: 19 Year: 2018"
          ],
          [
           "Mile: 15 Year: 2016"
          ],
          [
           "Mile: 15 Year: 2017"
          ],
          [
           "Mile: 14 Year: 2015"
          ],
          [
           "Mile: 14 Year: 2016"
          ],
          [
           "Mile: 14 Year: 2017"
          ],
          [
           "Mile: 14 Year: 2018"
          ],
          [
           "Mile: 13 Year: 2015"
          ],
          [
           "Mile: 13 Year: 2016"
          ]
         ],
         "hovertemplate": "k_means=0<br>Percentage of NC that Transitioned to Damaged=%{x}<br>Percentage of Mildly Damaged to Critically Damaged=%{y}<br>id=%{customdata[0]}<extra></extra>",
         "legendgroup": "0",
         "marker": {
          "color": "#636efa",
          "symbol": "circle"
         },
         "mode": "markers",
         "name": "0",
         "orientation": "v",
         "showlegend": true,
         "type": "scatter",
         "x": [
          0.038,
          0.027,
          0.036,
          0.037,
          0.038,
          0.027,
          0.024,
          0.04,
          0.036,
          0.013,
          0.03,
          0.033,
          0.009,
          0.026,
          0.036,
          0.038,
          0.04
         ],
         "xaxis": "x",
         "y": [
          0.222,
          0.368,
          0.333,
          0.375,
          0.286,
          0.385,
          0.286,
          0.286,
          0.286,
          0,
          0.4,
          0.118,
          0.318,
          0.059,
          0.278,
          0.286,
          0.167
         ],
         "yaxis": "y"
        },
        {
         "customdata": [
          [
           "Mile: 22 Year: 2018"
          ],
          [
           "Mile: 21 Year: 2017"
          ],
          [
           "Mile: 20 Year: 2016"
          ],
          [
           "Mile: 20 Year: 2017"
          ],
          [
           "Mile: 20 Year: 2018"
          ],
          [
           "Mile: 17 Year: 2018"
          ],
          [
           "Mile: 16 Year: 2018"
          ],
          [
           "Mile: 15 Year: 2015"
          ],
          [
           "Mile: 13 Year: 2018"
          ]
         ],
         "hovertemplate": "k_means=2<br>Percentage of NC that Transitioned to Damaged=%{x}<br>Percentage of Mildly Damaged to Critically Damaged=%{y}<br>id=%{customdata[0]}<extra></extra>",
         "legendgroup": "2",
         "marker": {
          "color": "#EF553B",
          "symbol": "circle"
         },
         "mode": "markers",
         "name": "2",
         "orientation": "v",
         "showlegend": true,
         "type": "scatter",
         "x": [
          0.024,
          0.035,
          0.012,
          0.017,
          0.013,
          0.007,
          0.017,
          0.029,
          0.022
         ],
         "xaxis": "x",
         "y": [
          0.5,
          0.5,
          0.429,
          0.667,
          0.667,
          0.643,
          0.5,
          0.5,
          0.615
         ],
         "yaxis": "y"
        },
        {
         "customdata": [
          [
           "Mile: 19 Year: 2015"
          ],
          [
           "Mile: 19 Year: 2016"
          ],
          [
           "Mile: 18 Year: 2015"
          ],
          [
           "Mile: 18 Year: 2016"
          ],
          [
           "Mile: 18 Year: 2018"
          ],
          [
           "Mile: 17 Year: 2015"
          ],
          [
           "Mile: 17 Year: 2017"
          ],
          [
           "Mile: 16 Year: 2015"
          ],
          [
           "Mile: 16 Year: 2016"
          ],
          [
           "Mile: 16 Year: 2017"
          ],
          [
           "Mile: 13 Year: 2017"
          ]
         ],
         "hovertemplate": "k_means=1<br>Percentage of NC that Transitioned to Damaged=%{x}<br>Percentage of Mildly Damaged to Critically Damaged=%{y}<br>id=%{customdata[0]}<extra></extra>",
         "legendgroup": "1",
         "marker": {
          "color": "#00cc96",
          "symbol": "circle"
         },
         "mode": "markers",
         "name": "1",
         "orientation": "v",
         "showlegend": true,
         "type": "scatter",
         "x": [
          0.047,
          0.049,
          0.0689999999999999,
          0.0739999999999999,
          0.0759999999999999,
          0.052,
          0.0669999999999999,
          0.054,
          0.042,
          0.049,
          0.052
         ],
         "xaxis": "x",
         "y": [
          0.455,
          0.556,
          0.267,
          0.353,
          0.583,
          0.583,
          0.562,
          0.375,
          0.455,
          0.444,
          0.286
         ],
         "yaxis": "y"
        }
       ],
       "layout": {
        "legend": {
         "title": {
          "text": "k_means"
         },
         "tracegroupgap": 0
        },
        "margin": {
         "t": 60
        },
        "template": {
         "data": {
          "bar": [
           {
            "error_x": {
             "color": "#2a3f5f"
            },
            "error_y": {
             "color": "#2a3f5f"
            },
            "marker": {
             "line": {
              "color": "#E5ECF6",
              "width": 0.5
             },
             "pattern": {
              "fillmode": "overlay",
              "size": 10,
              "solidity": 0.2
             }
            },
            "type": "bar"
           }
          ],
          "barpolar": [
           {
            "marker": {
             "line": {
              "color": "#E5ECF6",
              "width": 0.5
             },
             "pattern": {
              "fillmode": "overlay",
              "size": 10,
              "solidity": 0.2
             }
            },
            "type": "barpolar"
           }
          ],
          "carpet": [
           {
            "aaxis": {
             "endlinecolor": "#2a3f5f",
             "gridcolor": "white",
             "linecolor": "white",
             "minorgridcolor": "white",
             "startlinecolor": "#2a3f5f"
            },
            "baxis": {
             "endlinecolor": "#2a3f5f",
             "gridcolor": "white",
             "linecolor": "white",
             "minorgridcolor": "white",
             "startlinecolor": "#2a3f5f"
            },
            "type": "carpet"
           }
          ],
          "choropleth": [
           {
            "colorbar": {
             "outlinewidth": 0,
             "ticks": ""
            },
            "type": "choropleth"
           }
          ],
          "contour": [
           {
            "colorbar": {
             "outlinewidth": 0,
             "ticks": ""
            },
            "colorscale": [
             [
              0,
              "#0d0887"
             ],
             [
              0.1111111111111111,
              "#46039f"
             ],
             [
              0.2222222222222222,
              "#7201a8"
             ],
             [
              0.3333333333333333,
              "#9c179e"
             ],
             [
              0.4444444444444444,
              "#bd3786"
             ],
             [
              0.5555555555555556,
              "#d8576b"
             ],
             [
              0.6666666666666666,
              "#ed7953"
             ],
             [
              0.7777777777777778,
              "#fb9f3a"
             ],
             [
              0.8888888888888888,
              "#fdca26"
             ],
             [
              1,
              "#f0f921"
             ]
            ],
            "type": "contour"
           }
          ],
          "contourcarpet": [
           {
            "colorbar": {
             "outlinewidth": 0,
             "ticks": ""
            },
            "type": "contourcarpet"
           }
          ],
          "heatmap": [
           {
            "colorbar": {
             "outlinewidth": 0,
             "ticks": ""
            },
            "colorscale": [
             [
              0,
              "#0d0887"
             ],
             [
              0.1111111111111111,
              "#46039f"
             ],
             [
              0.2222222222222222,
              "#7201a8"
             ],
             [
              0.3333333333333333,
              "#9c179e"
             ],
             [
              0.4444444444444444,
              "#bd3786"
             ],
             [
              0.5555555555555556,
              "#d8576b"
             ],
             [
              0.6666666666666666,
              "#ed7953"
             ],
             [
              0.7777777777777778,
              "#fb9f3a"
             ],
             [
              0.8888888888888888,
              "#fdca26"
             ],
             [
              1,
              "#f0f921"
             ]
            ],
            "type": "heatmap"
           }
          ],
          "heatmapgl": [
           {
            "colorbar": {
             "outlinewidth": 0,
             "ticks": ""
            },
            "colorscale": [
             [
              0,
              "#0d0887"
             ],
             [
              0.1111111111111111,
              "#46039f"
             ],
             [
              0.2222222222222222,
              "#7201a8"
             ],
             [
              0.3333333333333333,
              "#9c179e"
             ],
             [
              0.4444444444444444,
              "#bd3786"
             ],
             [
              0.5555555555555556,
              "#d8576b"
             ],
             [
              0.6666666666666666,
              "#ed7953"
             ],
             [
              0.7777777777777778,
              "#fb9f3a"
             ],
             [
              0.8888888888888888,
              "#fdca26"
             ],
             [
              1,
              "#f0f921"
             ]
            ],
            "type": "heatmapgl"
           }
          ],
          "histogram": [
           {
            "marker": {
             "pattern": {
              "fillmode": "overlay",
              "size": 10,
              "solidity": 0.2
             }
            },
            "type": "histogram"
           }
          ],
          "histogram2d": [
           {
            "colorbar": {
             "outlinewidth": 0,
             "ticks": ""
            },
            "colorscale": [
             [
              0,
              "#0d0887"
             ],
             [
              0.1111111111111111,
              "#46039f"
             ],
             [
              0.2222222222222222,
              "#7201a8"
             ],
             [
              0.3333333333333333,
              "#9c179e"
             ],
             [
              0.4444444444444444,
              "#bd3786"
             ],
             [
              0.5555555555555556,
              "#d8576b"
             ],
             [
              0.6666666666666666,
              "#ed7953"
             ],
             [
              0.7777777777777778,
              "#fb9f3a"
             ],
             [
              0.8888888888888888,
              "#fdca26"
             ],
             [
              1,
              "#f0f921"
             ]
            ],
            "type": "histogram2d"
           }
          ],
          "histogram2dcontour": [
           {
            "colorbar": {
             "outlinewidth": 0,
             "ticks": ""
            },
            "colorscale": [
             [
              0,
              "#0d0887"
             ],
             [
              0.1111111111111111,
              "#46039f"
             ],
             [
              0.2222222222222222,
              "#7201a8"
             ],
             [
              0.3333333333333333,
              "#9c179e"
             ],
             [
              0.4444444444444444,
              "#bd3786"
             ],
             [
              0.5555555555555556,
              "#d8576b"
             ],
             [
              0.6666666666666666,
              "#ed7953"
             ],
             [
              0.7777777777777778,
              "#fb9f3a"
             ],
             [
              0.8888888888888888,
              "#fdca26"
             ],
             [
              1,
              "#f0f921"
             ]
            ],
            "type": "histogram2dcontour"
           }
          ],
          "mesh3d": [
           {
            "colorbar": {
             "outlinewidth": 0,
             "ticks": ""
            },
            "type": "mesh3d"
           }
          ],
          "parcoords": [
           {
            "line": {
             "colorbar": {
              "outlinewidth": 0,
              "ticks": ""
             }
            },
            "type": "parcoords"
           }
          ],
          "pie": [
           {
            "automargin": true,
            "type": "pie"
           }
          ],
          "scatter": [
           {
            "marker": {
             "colorbar": {
              "outlinewidth": 0,
              "ticks": ""
             }
            },
            "type": "scatter"
           }
          ],
          "scatter3d": [
           {
            "line": {
             "colorbar": {
              "outlinewidth": 0,
              "ticks": ""
             }
            },
            "marker": {
             "colorbar": {
              "outlinewidth": 0,
              "ticks": ""
             }
            },
            "type": "scatter3d"
           }
          ],
          "scattercarpet": [
           {
            "marker": {
             "colorbar": {
              "outlinewidth": 0,
              "ticks": ""
             }
            },
            "type": "scattercarpet"
           }
          ],
          "scattergeo": [
           {
            "marker": {
             "colorbar": {
              "outlinewidth": 0,
              "ticks": ""
             }
            },
            "type": "scattergeo"
           }
          ],
          "scattergl": [
           {
            "marker": {
             "colorbar": {
              "outlinewidth": 0,
              "ticks": ""
             }
            },
            "type": "scattergl"
           }
          ],
          "scattermapbox": [
           {
            "marker": {
             "colorbar": {
              "outlinewidth": 0,
              "ticks": ""
             }
            },
            "type": "scattermapbox"
           }
          ],
          "scatterpolar": [
           {
            "marker": {
             "colorbar": {
              "outlinewidth": 0,
              "ticks": ""
             }
            },
            "type": "scatterpolar"
           }
          ],
          "scatterpolargl": [
           {
            "marker": {
             "colorbar": {
              "outlinewidth": 0,
              "ticks": ""
             }
            },
            "type": "scatterpolargl"
           }
          ],
          "scatterternary": [
           {
            "marker": {
             "colorbar": {
              "outlinewidth": 0,
              "ticks": ""
             }
            },
            "type": "scatterternary"
           }
          ],
          "surface": [
           {
            "colorbar": {
             "outlinewidth": 0,
             "ticks": ""
            },
            "colorscale": [
             [
              0,
              "#0d0887"
             ],
             [
              0.1111111111111111,
              "#46039f"
             ],
             [
              0.2222222222222222,
              "#7201a8"
             ],
             [
              0.3333333333333333,
              "#9c179e"
             ],
             [
              0.4444444444444444,
              "#bd3786"
             ],
             [
              0.5555555555555556,
              "#d8576b"
             ],
             [
              0.6666666666666666,
              "#ed7953"
             ],
             [
              0.7777777777777778,
              "#fb9f3a"
             ],
             [
              0.8888888888888888,
              "#fdca26"
             ],
             [
              1,
              "#f0f921"
             ]
            ],
            "type": "surface"
           }
          ],
          "table": [
           {
            "cells": {
             "fill": {
              "color": "#EBF0F8"
             },
             "line": {
              "color": "white"
             }
            },
            "header": {
             "fill": {
              "color": "#C8D4E3"
             },
             "line": {
              "color": "white"
             }
            },
            "type": "table"
           }
          ]
         },
         "layout": {
          "annotationdefaults": {
           "arrowcolor": "#2a3f5f",
           "arrowhead": 0,
           "arrowwidth": 1
          },
          "autotypenumbers": "strict",
          "coloraxis": {
           "colorbar": {
            "outlinewidth": 0,
            "ticks": ""
           }
          },
          "colorscale": {
           "diverging": [
            [
             0,
             "#8e0152"
            ],
            [
             0.1,
             "#c51b7d"
            ],
            [
             0.2,
             "#de77ae"
            ],
            [
             0.3,
             "#f1b6da"
            ],
            [
             0.4,
             "#fde0ef"
            ],
            [
             0.5,
             "#f7f7f7"
            ],
            [
             0.6,
             "#e6f5d0"
            ],
            [
             0.7,
             "#b8e186"
            ],
            [
             0.8,
             "#7fbc41"
            ],
            [
             0.9,
             "#4d9221"
            ],
            [
             1,
             "#276419"
            ]
           ],
           "sequential": [
            [
             0,
             "#0d0887"
            ],
            [
             0.1111111111111111,
             "#46039f"
            ],
            [
             0.2222222222222222,
             "#7201a8"
            ],
            [
             0.3333333333333333,
             "#9c179e"
            ],
            [
             0.4444444444444444,
             "#bd3786"
            ],
            [
             0.5555555555555556,
             "#d8576b"
            ],
            [
             0.6666666666666666,
             "#ed7953"
            ],
            [
             0.7777777777777778,
             "#fb9f3a"
            ],
            [
             0.8888888888888888,
             "#fdca26"
            ],
            [
             1,
             "#f0f921"
            ]
           ],
           "sequentialminus": [
            [
             0,
             "#0d0887"
            ],
            [
             0.1111111111111111,
             "#46039f"
            ],
            [
             0.2222222222222222,
             "#7201a8"
            ],
            [
             0.3333333333333333,
             "#9c179e"
            ],
            [
             0.4444444444444444,
             "#bd3786"
            ],
            [
             0.5555555555555556,
             "#d8576b"
            ],
            [
             0.6666666666666666,
             "#ed7953"
            ],
            [
             0.7777777777777778,
             "#fb9f3a"
            ],
            [
             0.8888888888888888,
             "#fdca26"
            ],
            [
             1,
             "#f0f921"
            ]
           ]
          },
          "colorway": [
           "#636efa",
           "#EF553B",
           "#00cc96",
           "#ab63fa",
           "#FFA15A",
           "#19d3f3",
           "#FF6692",
           "#B6E880",
           "#FF97FF",
           "#FECB52"
          ],
          "font": {
           "color": "#2a3f5f"
          },
          "geo": {
           "bgcolor": "white",
           "lakecolor": "white",
           "landcolor": "#E5ECF6",
           "showlakes": true,
           "showland": true,
           "subunitcolor": "white"
          },
          "hoverlabel": {
           "align": "left"
          },
          "hovermode": "closest",
          "mapbox": {
           "style": "light"
          },
          "paper_bgcolor": "white",
          "plot_bgcolor": "#E5ECF6",
          "polar": {
           "angularaxis": {
            "gridcolor": "white",
            "linecolor": "white",
            "ticks": ""
           },
           "bgcolor": "#E5ECF6",
           "radialaxis": {
            "gridcolor": "white",
            "linecolor": "white",
            "ticks": ""
           }
          },
          "scene": {
           "xaxis": {
            "backgroundcolor": "#E5ECF6",
            "gridcolor": "white",
            "gridwidth": 2,
            "linecolor": "white",
            "showbackground": true,
            "ticks": "",
            "zerolinecolor": "white"
           },
           "yaxis": {
            "backgroundcolor": "#E5ECF6",
            "gridcolor": "white",
            "gridwidth": 2,
            "linecolor": "white",
            "showbackground": true,
            "ticks": "",
            "zerolinecolor": "white"
           },
           "zaxis": {
            "backgroundcolor": "#E5ECF6",
            "gridcolor": "white",
            "gridwidth": 2,
            "linecolor": "white",
            "showbackground": true,
            "ticks": "",
            "zerolinecolor": "white"
           }
          },
          "shapedefaults": {
           "line": {
            "color": "#2a3f5f"
           }
          },
          "ternary": {
           "aaxis": {
            "gridcolor": "white",
            "linecolor": "white",
            "ticks": ""
           },
           "baxis": {
            "gridcolor": "white",
            "linecolor": "white",
            "ticks": ""
           },
           "bgcolor": "#E5ECF6",
           "caxis": {
            "gridcolor": "white",
            "linecolor": "white",
            "ticks": ""
           }
          },
          "title": {
           "x": 0.05
          },
          "xaxis": {
           "automargin": true,
           "gridcolor": "white",
           "linecolor": "white",
           "ticks": "",
           "title": {
            "standoff": 15
           },
           "zerolinecolor": "white",
           "zerolinewidth": 2
          },
          "yaxis": {
           "automargin": true,
           "gridcolor": "white",
           "linecolor": "white",
           "ticks": "",
           "title": {
            "standoff": 15
           },
           "zerolinecolor": "white",
           "zerolinewidth": 2
          }
         }
        },
        "xaxis": {
         "anchor": "y",
         "domain": [
          0,
          1
         ],
         "title": {
          "text": "Percentage of NC that Transitioned to Damaged"
         }
        },
        "yaxis": {
         "anchor": "x",
         "domain": [
          0,
          1
         ],
         "title": {
          "text": "Percentage of Mildly Damaged to Critically Damaged"
         }
        }
       }
      }
     },
     "metadata": {},
     "output_type": "display_data"
    }
   ],
   "source": [
    "kmeans_fig = px.scatter(df, x='Percentage of NC that Transitioned to Damaged', y='Percentage of Mildly Damaged to Critically Damaged', color='k_means', hover_data=['id'])\n",
    "kmeans_fig.show()"
   ]
  },
  {
   "cell_type": "code",
   "execution_count": 61,
   "metadata": {},
   "outputs": [
    {
     "data": {
      "text/html": [
       "<div>\n",
       "<style scoped>\n",
       "    .dataframe tbody tr th:only-of-type {\n",
       "        vertical-align: middle;\n",
       "    }\n",
       "\n",
       "    .dataframe tbody tr th {\n",
       "        vertical-align: top;\n",
       "    }\n",
       "\n",
       "    .dataframe thead th {\n",
       "        text-align: right;\n",
       "    }\n",
       "</style>\n",
       "<table border=\"1\" class=\"dataframe\">\n",
       "  <thead>\n",
       "    <tr style=\"text-align: right;\">\n",
       "      <th></th>\n",
       "      <th>Unnamed: 0</th>\n",
       "      <th>Mile</th>\n",
       "      <th>Year</th>\n",
       "      <th>Percent Damaged</th>\n",
       "      <th>Percentage of NC that Transitioned to Damaged</th>\n",
       "      <th>Percentage of Mildly Damaged to Critically Damaged</th>\n",
       "      <th>S_NC_to_damaged</th>\n",
       "      <th>S_mild_to_critical</th>\n",
       "    </tr>\n",
       "  </thead>\n",
       "  <tbody>\n",
       "    <tr>\n",
       "      <th>count</th>\n",
       "      <td>12.000000</td>\n",
       "      <td>12.000000</td>\n",
       "      <td>12.000000</td>\n",
       "      <td>12.000000</td>\n",
       "      <td>12.000000</td>\n",
       "      <td>12.000000</td>\n",
       "      <td>12.000000</td>\n",
       "      <td>12.000000</td>\n",
       "    </tr>\n",
       "    <tr>\n",
       "      <th>mean</th>\n",
       "      <td>21.083333</td>\n",
       "      <td>17.000000</td>\n",
       "      <td>2016.083333</td>\n",
       "      <td>0.337917</td>\n",
       "      <td>0.059750</td>\n",
       "      <td>0.433750</td>\n",
       "      <td>1.178955</td>\n",
       "      <td>0.294287</td>\n",
       "    </tr>\n",
       "    <tr>\n",
       "      <th>std</th>\n",
       "      <td>6.947313</td>\n",
       "      <td>1.651446</td>\n",
       "      <td>0.996205</td>\n",
       "      <td>0.081873</td>\n",
       "      <td>0.014001</td>\n",
       "      <td>0.119996</td>\n",
       "      <td>0.738364</td>\n",
       "      <td>0.744058</td>\n",
       "    </tr>\n",
       "    <tr>\n",
       "      <th>min</th>\n",
       "      <td>12.000000</td>\n",
       "      <td>13.000000</td>\n",
       "      <td>2015.000000</td>\n",
       "      <td>0.154000</td>\n",
       "      <td>0.042000</td>\n",
       "      <td>0.267000</td>\n",
       "      <td>0.242869</td>\n",
       "      <td>-0.739675</td>\n",
       "    </tr>\n",
       "    <tr>\n",
       "      <th>25%</th>\n",
       "      <td>16.750000</td>\n",
       "      <td>16.000000</td>\n",
       "      <td>2015.000000</td>\n",
       "      <td>0.296750</td>\n",
       "      <td>0.049000</td>\n",
       "      <td>0.336250</td>\n",
       "      <td>0.612030</td>\n",
       "      <td>-0.310279</td>\n",
       "    </tr>\n",
       "    <tr>\n",
       "      <th>50%</th>\n",
       "      <td>20.500000</td>\n",
       "      <td>17.000000</td>\n",
       "      <td>2016.000000</td>\n",
       "      <td>0.331000</td>\n",
       "      <td>0.053000</td>\n",
       "      <td>0.449500</td>\n",
       "      <td>0.822979</td>\n",
       "      <td>0.391948</td>\n",
       "    </tr>\n",
       "    <tr>\n",
       "      <th>75%</th>\n",
       "      <td>24.250000</td>\n",
       "      <td>18.000000</td>\n",
       "      <td>2017.000000</td>\n",
       "      <td>0.385000</td>\n",
       "      <td>0.070250</td>\n",
       "      <td>0.557500</td>\n",
       "      <td>1.732696</td>\n",
       "      <td>1.061621</td>\n",
       "    </tr>\n",
       "    <tr>\n",
       "      <th>max</th>\n",
       "      <td>38.000000</td>\n",
       "      <td>19.000000</td>\n",
       "      <td>2018.000000</td>\n",
       "      <td>0.460000</td>\n",
       "      <td>0.086000</td>\n",
       "      <td>0.583000</td>\n",
       "      <td>2.563308</td>\n",
       "      <td>1.219738</td>\n",
       "    </tr>\n",
       "  </tbody>\n",
       "</table>\n",
       "</div>"
      ],
      "text/plain": [
       "       Unnamed: 0       Mile         Year  Percent Damaged  \\\n",
       "count   12.000000  12.000000    12.000000        12.000000   \n",
       "mean    21.083333  17.000000  2016.083333         0.337917   \n",
       "std      6.947313   1.651446     0.996205         0.081873   \n",
       "min     12.000000  13.000000  2015.000000         0.154000   \n",
       "25%     16.750000  16.000000  2015.000000         0.296750   \n",
       "50%     20.500000  17.000000  2016.000000         0.331000   \n",
       "75%     24.250000  18.000000  2017.000000         0.385000   \n",
       "max     38.000000  19.000000  2018.000000         0.460000   \n",
       "\n",
       "       Percentage of NC that Transitioned to Damaged  \\\n",
       "count                                      12.000000   \n",
       "mean                                        0.059750   \n",
       "std                                         0.014001   \n",
       "min                                         0.042000   \n",
       "25%                                         0.049000   \n",
       "50%                                         0.053000   \n",
       "75%                                         0.070250   \n",
       "max                                         0.086000   \n",
       "\n",
       "       Percentage of Mildly Damaged to Critically Damaged  S_NC_to_damaged  \\\n",
       "count                                          12.000000         12.000000   \n",
       "mean                                            0.433750          1.178955   \n",
       "std                                             0.119996          0.738364   \n",
       "min                                             0.267000          0.242869   \n",
       "25%                                             0.336250          0.612030   \n",
       "50%                                             0.449500          0.822979   \n",
       "75%                                             0.557500          1.732696   \n",
       "max                                             0.583000          2.563308   \n",
       "\n",
       "       S_mild_to_critical  \n",
       "count           12.000000  \n",
       "mean             0.294287  \n",
       "std              0.744058  \n",
       "min             -0.739675  \n",
       "25%             -0.310279  \n",
       "50%              0.391948  \n",
       "75%              1.061621  \n",
       "max              1.219738  "
      ]
     },
     "execution_count": 61,
     "metadata": {},
     "output_type": "execute_result"
    }
   ],
   "source": [
    "group_0 = df[df['k_means'] == '0']\n",
    "group_1 = df[df['k_means'] == '1']\n",
    "group_2 = df[df['k_means'] == '2']\n",
    "\n",
    "# most transition activity\n",
    "group_0.describe()"
   ]
  },
  {
   "cell_type": "code",
   "execution_count": 62,
   "metadata": {},
   "outputs": [
    {
     "data": {
      "text/html": [
       "<div>\n",
       "<style scoped>\n",
       "    .dataframe tbody tr th:only-of-type {\n",
       "        vertical-align: middle;\n",
       "    }\n",
       "\n",
       "    .dataframe tbody tr th {\n",
       "        vertical-align: top;\n",
       "    }\n",
       "\n",
       "    .dataframe thead th {\n",
       "        text-align: right;\n",
       "    }\n",
       "</style>\n",
       "<table border=\"1\" class=\"dataframe\">\n",
       "  <thead>\n",
       "    <tr style=\"text-align: right;\">\n",
       "      <th></th>\n",
       "      <th>Unnamed: 0</th>\n",
       "      <th>Mile</th>\n",
       "      <th>Year</th>\n",
       "      <th>Percent Damaged</th>\n",
       "      <th>Percentage of NC that Transitioned to Damaged</th>\n",
       "      <th>Percentage of Mildly Damaged to Critically Damaged</th>\n",
       "      <th>S_NC_to_damaged</th>\n",
       "      <th>S_mild_to_critical</th>\n",
       "    </tr>\n",
       "  </thead>\n",
       "  <tbody>\n",
       "    <tr>\n",
       "      <th>count</th>\n",
       "      <td>17.000000</td>\n",
       "      <td>17.000000</td>\n",
       "      <td>17.000000</td>\n",
       "      <td>17.000000</td>\n",
       "      <td>17.000000</td>\n",
       "      <td>17.000000</td>\n",
       "      <td>17.000000</td>\n",
       "      <td>17.000000</td>\n",
       "    </tr>\n",
       "    <tr>\n",
       "      <th>mean</th>\n",
       "      <td>18.941176</td>\n",
       "      <td>17.588235</td>\n",
       "      <td>2016.294118</td>\n",
       "      <td>0.188588</td>\n",
       "      <td>0.031059</td>\n",
       "      <td>0.261941</td>\n",
       "      <td>-0.334139</td>\n",
       "      <td>-0.771044</td>\n",
       "    </tr>\n",
       "    <tr>\n",
       "      <th>std</th>\n",
       "      <td>14.536465</td>\n",
       "      <td>3.623859</td>\n",
       "      <td>1.104802</td>\n",
       "      <td>0.089049</td>\n",
       "      <td>0.009148</td>\n",
       "      <td>0.114757</td>\n",
       "      <td>0.482434</td>\n",
       "      <td>0.711568</td>\n",
       "    </tr>\n",
       "    <tr>\n",
       "      <th>min</th>\n",
       "      <td>0.000000</td>\n",
       "      <td>13.000000</td>\n",
       "      <td>2015.000000</td>\n",
       "      <td>0.084000</td>\n",
       "      <td>0.009000</td>\n",
       "      <td>0.000000</td>\n",
       "      <td>-1.497460</td>\n",
       "      <td>-2.395256</td>\n",
       "    </tr>\n",
       "    <tr>\n",
       "      <th>25%</th>\n",
       "      <td>5.000000</td>\n",
       "      <td>14.000000</td>\n",
       "      <td>2015.000000</td>\n",
       "      <td>0.119000</td>\n",
       "      <td>0.027000</td>\n",
       "      <td>0.222000</td>\n",
       "      <td>-0.548190</td>\n",
       "      <td>-1.018706</td>\n",
       "    </tr>\n",
       "    <tr>\n",
       "      <th>50%</th>\n",
       "      <td>15.000000</td>\n",
       "      <td>19.000000</td>\n",
       "      <td>2016.000000</td>\n",
       "      <td>0.179000</td>\n",
       "      <td>0.036000</td>\n",
       "      <td>0.286000</td>\n",
       "      <td>-0.073555</td>\n",
       "      <td>-0.621863</td>\n",
       "    </tr>\n",
       "    <tr>\n",
       "      <th>75%</th>\n",
       "      <td>33.000000</td>\n",
       "      <td>21.000000</td>\n",
       "      <td>2017.000000</td>\n",
       "      <td>0.219000</td>\n",
       "      <td>0.038000</td>\n",
       "      <td>0.333000</td>\n",
       "      <td>0.031920</td>\n",
       "      <td>-0.330431</td>\n",
       "    </tr>\n",
       "    <tr>\n",
       "      <th>max</th>\n",
       "      <td>37.000000</td>\n",
       "      <td>22.000000</td>\n",
       "      <td>2018.000000</td>\n",
       "      <td>0.389000</td>\n",
       "      <td>0.040000</td>\n",
       "      <td>0.400000</td>\n",
       "      <td>0.137394</td>\n",
       "      <td>0.085015</td>\n",
       "    </tr>\n",
       "  </tbody>\n",
       "</table>\n",
       "</div>"
      ],
      "text/plain": [
       "       Unnamed: 0       Mile         Year  Percent Damaged  \\\n",
       "count   17.000000  17.000000    17.000000        17.000000   \n",
       "mean    18.941176  17.588235  2016.294118         0.188588   \n",
       "std     14.536465   3.623859     1.104802         0.089049   \n",
       "min      0.000000  13.000000  2015.000000         0.084000   \n",
       "25%      5.000000  14.000000  2015.000000         0.119000   \n",
       "50%     15.000000  19.000000  2016.000000         0.179000   \n",
       "75%     33.000000  21.000000  2017.000000         0.219000   \n",
       "max     37.000000  22.000000  2018.000000         0.389000   \n",
       "\n",
       "       Percentage of NC that Transitioned to Damaged  \\\n",
       "count                                      17.000000   \n",
       "mean                                        0.031059   \n",
       "std                                         0.009148   \n",
       "min                                         0.009000   \n",
       "25%                                         0.027000   \n",
       "50%                                         0.036000   \n",
       "75%                                         0.038000   \n",
       "max                                         0.040000   \n",
       "\n",
       "       Percentage of Mildly Damaged to Critically Damaged  S_NC_to_damaged  \\\n",
       "count                                          17.000000         17.000000   \n",
       "mean                                            0.261941         -0.334139   \n",
       "std                                             0.114757          0.482434   \n",
       "min                                             0.000000         -1.497460   \n",
       "25%                                             0.222000         -0.548190   \n",
       "50%                                             0.286000         -0.073555   \n",
       "75%                                             0.333000          0.031920   \n",
       "max                                             0.400000          0.137394   \n",
       "\n",
       "       S_mild_to_critical  \n",
       "count           17.000000  \n",
       "mean            -0.771044  \n",
       "std              0.711568  \n",
       "min             -2.395256  \n",
       "25%             -1.018706  \n",
       "50%             -0.621863  \n",
       "75%             -0.330431  \n",
       "max              0.085015  "
      ]
     },
     "execution_count": 62,
     "metadata": {},
     "output_type": "execute_result"
    }
   ],
   "source": [
    "# least transition activity\n",
    "group_1.describe()"
   ]
  },
  {
   "cell_type": "code",
   "execution_count": 64,
   "metadata": {},
   "outputs": [
    {
     "data": {
      "text/html": [
       "<div>\n",
       "<style scoped>\n",
       "    .dataframe tbody tr th:only-of-type {\n",
       "        vertical-align: middle;\n",
       "    }\n",
       "\n",
       "    .dataframe tbody tr th {\n",
       "        vertical-align: top;\n",
       "    }\n",
       "\n",
       "    .dataframe thead th {\n",
       "        text-align: right;\n",
       "    }\n",
       "</style>\n",
       "<table border=\"1\" class=\"dataframe\">\n",
       "  <thead>\n",
       "    <tr style=\"text-align: right;\">\n",
       "      <th></th>\n",
       "      <th>Unnamed: 0</th>\n",
       "      <th>Mile</th>\n",
       "      <th>Year</th>\n",
       "      <th>Percent Damaged</th>\n",
       "      <th>Percentage of NC that Transitioned to Damaged</th>\n",
       "      <th>Percentage of Mildly Damaged to Critically Damaged</th>\n",
       "      <th>S_NC_to_damaged</th>\n",
       "      <th>S_mild_to_critical</th>\n",
       "    </tr>\n",
       "  </thead>\n",
       "  <tbody>\n",
       "    <tr>\n",
       "      <th>count</th>\n",
       "      <td>9.000000</td>\n",
       "      <td>9.000000</td>\n",
       "      <td>9.000000</td>\n",
       "      <td>9.000000</td>\n",
       "      <td>9.000000</td>\n",
       "      <td>9.000000</td>\n",
       "      <td>9.000000</td>\n",
       "      <td>9.000000</td>\n",
       "    </tr>\n",
       "    <tr>\n",
       "      <th>mean</th>\n",
       "      <td>17.333333</td>\n",
       "      <td>18.222222</td>\n",
       "      <td>2017.222222</td>\n",
       "      <td>0.228556</td>\n",
       "      <td>0.019556</td>\n",
       "      <td>0.557889</td>\n",
       "      <td>-0.940789</td>\n",
       "      <td>1.064033</td>\n",
       "    </tr>\n",
       "    <tr>\n",
       "      <th>std</th>\n",
       "      <td>12.278029</td>\n",
       "      <td>3.073181</td>\n",
       "      <td>1.092906</td>\n",
       "      <td>0.138772</td>\n",
       "      <td>0.008833</td>\n",
       "      <td>0.089675</td>\n",
       "      <td>0.465846</td>\n",
       "      <td>0.556046</td>\n",
       "    </tr>\n",
       "    <tr>\n",
       "      <th>min</th>\n",
       "      <td>3.000000</td>\n",
       "      <td>13.000000</td>\n",
       "      <td>2015.000000</td>\n",
       "      <td>0.080000</td>\n",
       "      <td>0.007000</td>\n",
       "      <td>0.429000</td>\n",
       "      <td>-1.602935</td>\n",
       "      <td>0.264834</td>\n",
       "    </tr>\n",
       "    <tr>\n",
       "      <th>25%</th>\n",
       "      <td>9.000000</td>\n",
       "      <td>16.000000</td>\n",
       "      <td>2017.000000</td>\n",
       "      <td>0.125000</td>\n",
       "      <td>0.013000</td>\n",
       "      <td>0.500000</td>\n",
       "      <td>-1.286511</td>\n",
       "      <td>0.705082</td>\n",
       "    </tr>\n",
       "    <tr>\n",
       "      <th>50%</th>\n",
       "      <td>11.000000</td>\n",
       "      <td>20.000000</td>\n",
       "      <td>2018.000000</td>\n",
       "      <td>0.198000</td>\n",
       "      <td>0.017000</td>\n",
       "      <td>0.500000</td>\n",
       "      <td>-1.075562</td>\n",
       "      <td>0.705082</td>\n",
       "    </tr>\n",
       "    <tr>\n",
       "      <th>75%</th>\n",
       "      <td>27.000000</td>\n",
       "      <td>20.000000</td>\n",
       "      <td>2018.000000</td>\n",
       "      <td>0.266000</td>\n",
       "      <td>0.024000</td>\n",
       "      <td>0.643000</td>\n",
       "      <td>-0.706402</td>\n",
       "      <td>1.591779</td>\n",
       "    </tr>\n",
       "    <tr>\n",
       "      <th>max</th>\n",
       "      <td>39.000000</td>\n",
       "      <td>22.000000</td>\n",
       "      <td>2018.000000</td>\n",
       "      <td>0.496000</td>\n",
       "      <td>0.035000</td>\n",
       "      <td>0.667000</td>\n",
       "      <td>-0.126292</td>\n",
       "      <td>1.740595</td>\n",
       "    </tr>\n",
       "  </tbody>\n",
       "</table>\n",
       "</div>"
      ],
      "text/plain": [
       "       Unnamed: 0       Mile         Year  Percent Damaged  \\\n",
       "count    9.000000   9.000000     9.000000         9.000000   \n",
       "mean    17.333333  18.222222  2017.222222         0.228556   \n",
       "std     12.278029   3.073181     1.092906         0.138772   \n",
       "min      3.000000  13.000000  2015.000000         0.080000   \n",
       "25%      9.000000  16.000000  2017.000000         0.125000   \n",
       "50%     11.000000  20.000000  2018.000000         0.198000   \n",
       "75%     27.000000  20.000000  2018.000000         0.266000   \n",
       "max     39.000000  22.000000  2018.000000         0.496000   \n",
       "\n",
       "       Percentage of NC that Transitioned to Damaged  \\\n",
       "count                                       9.000000   \n",
       "mean                                        0.019556   \n",
       "std                                         0.008833   \n",
       "min                                         0.007000   \n",
       "25%                                         0.013000   \n",
       "50%                                         0.017000   \n",
       "75%                                         0.024000   \n",
       "max                                         0.035000   \n",
       "\n",
       "       Percentage of Mildly Damaged to Critically Damaged  S_NC_to_damaged  \\\n",
       "count                                           9.000000          9.000000   \n",
       "mean                                            0.557889         -0.940789   \n",
       "std                                             0.089675          0.465846   \n",
       "min                                             0.429000         -1.602935   \n",
       "25%                                             0.500000         -1.286511   \n",
       "50%                                             0.500000         -1.075562   \n",
       "75%                                             0.643000         -0.706402   \n",
       "max                                             0.667000         -0.126292   \n",
       "\n",
       "       S_mild_to_critical  \n",
       "count            9.000000  \n",
       "mean             1.064033  \n",
       "std              0.556046  \n",
       "min              0.264834  \n",
       "25%              0.705082  \n",
       "50%              0.705082  \n",
       "75%              1.591779  \n",
       "max              1.740595  "
      ]
     },
     "execution_count": 64,
     "metadata": {},
     "output_type": "execute_result"
    }
   ],
   "source": [
    "#moderate transition activity\n",
    "group_2.describe()"
   ]
  }
 ],
 "metadata": {
  "kernelspec": {
   "display_name": "base",
   "language": "python",
   "name": "python3"
  },
  "language_info": {
   "codemirror_mode": {
    "name": "ipython",
    "version": 3
   },
   "file_extension": ".py",
   "mimetype": "text/x-python",
   "name": "python",
   "nbconvert_exporter": "python",
   "pygments_lexer": "ipython3",
   "version": "3.9.12"
  },
  "orig_nbformat": 4
 },
 "nbformat": 4,
 "nbformat_minor": 2
}
