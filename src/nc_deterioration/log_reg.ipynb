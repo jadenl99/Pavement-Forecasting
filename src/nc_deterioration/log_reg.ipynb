{
 "cells": [
  {
   "cell_type": "code",
   "execution_count": 61,
   "metadata": {},
   "outputs": [],
   "source": [
    "import matplotlib.pyplot as plt\n",
    "import numpy as np\n",
    "from sklearn.linear_model import LogisticRegression\n",
    "from sklearn.metrics import classification_report, confusion_matrix\n",
    "from sklearn.model_selection import train_test_split\n",
    "import pandas as pd\n",
    "import collections\n",
    "import sys\n",
    "sys.path.append('..\\\\custom_libraries')\n",
    "\n",
    "# Custom library to analyze NC rate of deterioration\n",
    "import rate_analysis"
   ]
  },
  {
   "cell_type": "code",
   "execution_count": 62,
   "metadata": {},
   "outputs": [],
   "source": [
    "df = pd.read_csv('../../spreadsheet_data/i16WB_tag_replaced.csv')\n",
    "initial_state_arr = np.array([])\n",
    "avg_state_arr = np.array([])\n",
    "det_arr = np.array([])\n",
    "for year in range(2014, 2018):\n",
    "    initial_states = df[str(year)].to_numpy()\n",
    "    avg_state = rate_analysis.calc_average_state_by_slab(df, str(year), 5)\n",
    "    det = rate_analysis.has_deteriorated(df, str(year), str(year+1))\n",
    "    initial_state_arr = np.append(initial_state_arr, initial_states)\n",
    "    avg_state_arr = np.append(avg_state_arr, avg_state)\n",
    "    det_arr = np.append(det_arr, det)\n",
    "avg_state_df = pd.DataFrame({'initial_state': initial_state_arr, 'avg_state': avg_state_arr, 'deteriorated': det_arr})\n",
    "\n",
    "avg_state_df = avg_state_df[avg_state_df['initial_state'] != 'SS']\n",
    "avg_state_df = avg_state_df[avg_state_df['initial_state'] != 'R']\n",
    "avg_state_df = avg_state_df[avg_state_df['initial_state'] != 'B']"
   ]
  },
  {
   "cell_type": "code",
   "execution_count": 63,
   "metadata": {},
   "outputs": [],
   "source": [
    "\n",
    "\n",
    "X = avg_state_df['avg_state'].to_numpy().reshape(-1, 1)\n",
    "y = avg_state_df['deteriorated'].to_numpy()\n",
    "\n",
    "X_train, X_test, y_train, y_test = train_test_split(X, y, test_size=0.2, random_state=20)"
   ]
  },
  {
   "cell_type": "code",
   "execution_count": 64,
   "metadata": {},
   "outputs": [
    {
     "data": {
      "text/plain": [
       "LogisticRegression(random_state=0)"
      ]
     },
     "execution_count": 64,
     "metadata": {},
     "output_type": "execute_result"
    }
   ],
   "source": [
    "log_reg = LogisticRegression(random_state=0)\n",
    "log_reg.fit(X_train, y_train)   "
   ]
  },
  {
   "cell_type": "code",
   "execution_count": 65,
   "metadata": {},
   "outputs": [
    {
     "name": "stdout",
     "output_type": "stream",
     "text": [
      "Counter({0.0: 7196})\n"
     ]
    }
   ],
   "source": [
    "arr = log_reg.predict(X_train)\n",
    "counter = collections.Counter(arr)\n",
    "print(counter)"
   ]
  },
  {
   "cell_type": "code",
   "execution_count": 66,
   "metadata": {},
   "outputs": [
    {
     "data": {
      "text/plain": [
       "0.9409394107837687"
      ]
     },
     "execution_count": 66,
     "metadata": {},
     "output_type": "execute_result"
    }
   ],
   "source": [
    "log_reg.score(X_train, y_train)"
   ]
  },
  {
   "cell_type": "code",
   "execution_count": 67,
   "metadata": {},
   "outputs": [
    {
     "data": {
      "image/png": "[encoded data removed]",
      "text/plain": [
       "<Figure size 800x800 with 1 Axes>"
      ]
     },
     "metadata": {},
     "output_type": "display_data"
    }
   ],
   "source": [
    "cm = confusion_matrix(y_train, log_reg.predict(X_train))\n",
    "\n",
    "fig, ax = plt.subplots(figsize=(8, 8))\n",
    "ax.imshow(cm)\n",
    "ax.grid(False)\n",
    "ax.xaxis.set(ticks=(0, 1), ticklabels=('Predicted 0s', 'Predicted 1s'))\n",
    "ax.yaxis.set(ticks=(0, 1), ticklabels=('Actual 0s', 'Actual 1s'))\n",
    "ax.set_ylim(1.5, -0.5)\n",
    "for i in range(2):\n",
    "    for j in range(2):\n",
    "        ax.text(j, i, cm[i, j], ha='center', va='center', color='red')\n",
    "plt.show()"
   ]
  }
 ],
 "metadata": {
  "kernelspec": {
   "display_name": "base",
   "language": "python",
   "name": "python3"
  },
  "language_info": {
   "codemirror_mode": {
    "name": "ipython",
    "version": 3
   },
   "file_extension": ".py",
   "mimetype": "text/x-python",
   "name": "python",
   "nbconvert_exporter": "python",
   "pygments_lexer": "ipython3",
   "version": "3.9.12"
  }
 },
 "nbformat": 4,
 "nbformat_minor": 2
}
